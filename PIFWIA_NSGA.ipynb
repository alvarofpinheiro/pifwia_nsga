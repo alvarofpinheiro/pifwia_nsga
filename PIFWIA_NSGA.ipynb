{
  "nbformat": 4,
  "nbformat_minor": 0,
  "metadata": {
    "colab": {
      "name": "PIFWIA_NSGA.ipynb",
      "provenance": [],
      "collapsed_sections": []
    },
    "kernelspec": {
      "name": "python3",
      "display_name": "Python 3"
    }
  },
  "cells": [
    {
      "cell_type": "markdown",
      "source": [
        "Métodos para otimização multiobjetivos: NSGA-II; Multiple-objective Branch-and-Bound; Normal Boundary Intersection (NBI); Modified Normal Boundary Intersection (NBIm); Normal Constraint (NC); Successive Pareto Optimization (SPO); Directed Search Domain (DSD); Pareto surface generation for convex multi-objective instances (PGEN); Indirect Optimization on the basis of Self-Organization (IOSO); S-metric selection evolutionary multi-objective algorithm (SMS-EMOA); Approximation-Guided Evolution (AGE); Reactive Search Optimization (RSO); Multi-objective particle swarm optimization (MOPSO).\n",
        "\n",
        "NSGA - Non-dominated Sorting Genetic Algorithm ou Algoritmo Genético de Classificação Não Dominado é uma metaheurística para otimização multiobjetivo que pode ser denominada de \"programação multiobjetivo\" ou \"otimização vetorial\" ou \"otimização multicritério\" ou \"otimização multiatributo\" ou \"otimização de Pareto\", sendo uma área de tomada de decisão com múltiplos objetivos a serem otimizados simultaneamente de dois ou mais objetivos conflitantes.\n",
        "\n",
        "Deb, K.; Pratap, A.; Agarwal, S.; Meyarivan, T. A fast and elitist multiobjective genetic algorithm: NSGA-II. IEEE Transactions on Evolutionary Computation (Volume: 6, Issue: 2). https://doi.org/10.1109/4235.996017, 2002."
      ],
      "metadata": {
        "id": "Ji1oTtz8mE9L"
      }
    },
    {
      "cell_type": "code",
      "source": [
        "#instala biblioteca Orange Canvas e pymoo (otimização multiobjetivo)\n",
        "!pip install Orange3\n",
        "!pip install pymoo"
      ],
      "metadata": {
        "id": "AZL3imHRqNv4"
      },
      "execution_count": null,
      "outputs": []
    },
    {
      "cell_type": "code",
      "metadata": {
        "id": "kSF-_chACklb"
      },
      "source": [
        "#importa bibliotecas\n",
        "import Orange\n",
        "import random\n",
        "import math\n",
        "import numpy as np\n",
        "from tqdm import tqdm\n",
        "import matplotlib.pyplot as plt\n",
        "from numpy.random import choice\n",
        "from pymoo.algorithms.moo.nsga2 import NSGA2\n",
        "from pymoo.factory import get_problem\n",
        "from pymoo.optimize import minimize\n",
        "from pymoo.visualization.scatter import Scatter"
      ],
      "execution_count": null,
      "outputs": []
    },
    {
      "cell_type": "code",
      "source": [
        "#define os hiperparâmetros\n",
        "DIMENSOES = 2 #determina a quantidade de dimensões do problema\n",
        "ITERACOES = 200 #quantiddade máxima de ciclos (episódios) especificando quantas explorações podem ser realizadas\n",
        "POPULACAO = 20 #tamanho da população correspondente ao indivíduo\n",
        "E1 = -100 #extremo esquerdo eixo x\n",
        "E2 = 100 #extremo direito eixo x\n",
        "E3 = -100 #extremo inferior eixo y\n",
        "E4 = 100 #extremo superior eixo y\n",
        "LIMITES = [E3, E4] #LIMITES = [E1,E4] #(bound) determina os valores mínimos e máximos do espaço de busca\n",
        "FCUSTO = 'zdt5' #(fitness) define a aptidão do agente imunológico na possível solução do problema ('zdt1','zdt5')\n",
        "SEMENTE=1 #valor de inicialização\n",
        "VERBO=False #Se a saída deve ser impressa ou não\n",
        "CHAMADA = '' #objeto retornado em cada iteração\n",
        "INDIVIDUOS = [] #(swarm) array da criação dos indivíduos da população\n",
        "PESOS = [0.2,0.2] #f(x) = (0.2α + 0.2β + 0.1γ + 0.1δ + 0.1ε + 0.3θ) / 0.10"
      ],
      "metadata": {
        "id": "eq1IiXrNqYjP"
      },
      "execution_count": null,
      "outputs": []
    },
    {
      "cell_type": "code",
      "source": [
        "#importa dados\n",
        "from google.colab import files  \n",
        "files.upload()"
      ],
      "metadata": {
        "id": "ZqKsxZlZq5_3"
      },
      "execution_count": null,
      "outputs": []
    },
    {
      "cell_type": "code",
      "source": [
        "#instancia objeto de dados com base no caminho gerado na importação do arquivo\n",
        "dados = Orange.data.Table(\"/content/dados.csv\")"
      ],
      "metadata": {
        "id": "u1UUjLTBq8V-"
      },
      "execution_count": null,
      "outputs": []
    },
    {
      "cell_type": "code",
      "source": [
        "#explora os metadados e dados da arquivo importado\n",
        "qtde_campos = len(dados.domain.attributes)\n",
        "qtde_cont = sum(1 for a in dados.domain.attributes if a.is_continuous)\n",
        "qtde_disc = sum(1 for a in dados.domain.attributes if a.is_discrete)\n",
        "print(\"%d metadados: %d continuos, %d discretos\" % (qtde_campos, qtde_cont, qtde_disc))\n",
        "print(\"Nome dos metadados:\", \", \".join(dados.domain.attributes[i].name for i in range(qtde_campos)),)\n",
        "dados.domain.attributes #explora os domínios dos atributos (campos da base de dados)\n",
        "print(\"Registros:\", len(dados)) #explora os dados (quantidade de registros da base de dados)\n",
        "i = 0 #exibe os primeiros registros para análise dos dados importados\n",
        "for d in dados[:20]:\n",
        "  i += 1\n",
        "  print(i, d)"
      ],
      "metadata": {
        "id": "fOHzLsGDq-9l"
      },
      "execution_count": null,
      "outputs": []
    },
    {
      "cell_type": "code",
      "source": [
        "#cria arrays das dimensões do problema a ser otimizado\n",
        "processo = []\n",
        "periodo = []\n",
        "complexidade = [] #1-muito baixa complexidade;2-baixa complexidade;3-média complexidade;4-alta complexidade;e,5-muito alta complexidade\n",
        "pagina = []\n",
        "prazo = []\n",
        "revisao = []\n",
        "entrega = []\n",
        "valor = []\n",
        "i = 0\n",
        "for d in dados[:POPULACAO]:\n",
        "  processo.append(d[0])\n",
        "  periodo.append(d[1])\n",
        "  complexidade.append(d[2])\n",
        "  pagina.append(d[3])\n",
        "  prazo.append(d[4])\n",
        "  revisao.append(d[5])\n",
        "  entrega.append(d[6])\n",
        "  valor.append(d[7])\n",
        "  print(\"id:\",i,\"processo:\",processo[i],\"período:\",periodo[i],\"complexidade:\",complexidade[i],\"página:\",pagina[i],\"prazo:\",prazo[i],\"revisões:\",revisao[i],\"entrega:\",entrega[i],\"valor:\",valor[i])\n",
        "  i += 1"
      ],
      "metadata": {
        "id": "aIGOmr_JrB6R"
      },
      "execution_count": null,
      "outputs": []
    },
    {
      "cell_type": "code",
      "source": [
        "#inicializa população (indivíduos)\n",
        "populacao = []\n",
        "for i in range(POPULACAO):\n",
        "  cpx = complexidade[i]\n",
        "  pag = pagina[i]\n",
        "  prz = prazo[i]\n",
        "  rev = revisao[i]\n",
        "  ent = entrega[i]\n",
        "  val = valor[i]\n",
        "  posicao = 0\n",
        "  individuo = []\n",
        "  for j in range(DIMENSOES):\n",
        "    if (j==0):\n",
        "      posicao = cpx\n",
        "    elif (j==1):\n",
        "      posicao = pag\n",
        "    elif (j==2):\n",
        "      posicao = prz\n",
        "    elif (j==3):\n",
        "      posicao = rev\n",
        "    elif (j==4):\n",
        "      posicao = ent\n",
        "    elif (j==5):\n",
        "      posicao = val\n",
        "    else:\n",
        "      posicao = random.random()*(LIMITES[1]-LIMITES[0]) - LIMITES[1]\n",
        "    individuo.append(posicao)\n",
        "  populacao.append(individuo)\n",
        "  INDIVIDUOS = np.array(populacao) #([[0.5, 0.2], [0.1, 0.6]])\n",
        "  print(\"indivíduo:\",i,\"indivíduo:\",populacao[i])"
      ],
      "metadata": {
        "colab": {
          "base_uri": "https://localhost:8080/"
        },
        "id": "3qdLYqmfgsMU",
        "outputId": "74ce255e-8db9-43f3-95db-505276ca2af8"
      },
      "execution_count": null,
      "outputs": [
        {
          "output_type": "stream",
          "name": "stdout",
          "text": [
            "indivíduo: 0 indivíduo: [Value('COMPLEXIDADE', 3), Value('PAGINA', 12)]\n",
            "indivíduo: 1 indivíduo: [Value('COMPLEXIDADE', 3), Value('PAGINA', 20)]\n",
            "indivíduo: 2 indivíduo: [Value('COMPLEXIDADE', 3), Value('PAGINA', 55)]\n",
            "indivíduo: 3 indivíduo: [Value('COMPLEXIDADE', 4), Value('PAGINA', 43)]\n",
            "indivíduo: 4 indivíduo: [Value('COMPLEXIDADE', 2), Value('PAGINA', 24)]\n",
            "indivíduo: 5 indivíduo: [Value('COMPLEXIDADE', 1), Value('PAGINA', 93)]\n",
            "indivíduo: 6 indivíduo: [Value('COMPLEXIDADE', 3), Value('PAGINA', 44)]\n",
            "indivíduo: 7 indivíduo: [Value('COMPLEXIDADE', 2), Value('PAGINA', 37)]\n",
            "indivíduo: 8 indivíduo: [Value('COMPLEXIDADE', 1), Value('PAGINA', 11)]\n",
            "indivíduo: 9 indivíduo: [Value('COMPLEXIDADE', 1), Value('PAGINA', 10)]\n",
            "indivíduo: 10 indivíduo: [Value('COMPLEXIDADE', 2), Value('PAGINA', 32)]\n",
            "indivíduo: 11 indivíduo: [Value('COMPLEXIDADE', 2), Value('PAGINA', 13)]\n",
            "indivíduo: 12 indivíduo: [Value('COMPLEXIDADE', 1), Value('PAGINA', 14)]\n",
            "indivíduo: 13 indivíduo: [Value('COMPLEXIDADE', 3), Value('PAGINA', 51)]\n",
            "indivíduo: 14 indivíduo: [Value('COMPLEXIDADE', 4), Value('PAGINA', 8)]\n",
            "indivíduo: 15 indivíduo: [Value('COMPLEXIDADE', 3), Value('PAGINA', 82)]\n",
            "indivíduo: 16 indivíduo: [Value('COMPLEXIDADE', 2), Value('PAGINA', 12)]\n",
            "indivíduo: 17 indivíduo: [Value('COMPLEXIDADE', 2), Value('PAGINA', 16)]\n",
            "indivíduo: 18 indivíduo: [Value('COMPLEXIDADE', 2), Value('PAGINA', 97)]\n",
            "indivíduo: 19 indivíduo: [Value('COMPLEXIDADE', 4), Value('PAGINA', 87)]\n"
          ]
        }
      ]
    },
    {
      "cell_type": "code",
      "source": [
        "#calcula o multiobjetivo\n",
        "problem = get_problem(FCUSTO) #n_var=POPULACAO\n",
        "pf = problem.pareto_front()\n",
        "algorithm = NSGA2(\n",
        "  ref_points=INDIVIDUOS,\n",
        "  pop_size=POPULACAO,\n",
        "  epsilon=0.01,\n",
        "  normalization='front',\n",
        "  extreme_points_as_reference_points=False,\n",
        "  weights=np.array(PESOS))\n",
        "res = minimize(problem,\n",
        "  algorithm,\n",
        "  save_history=True,\n",
        "  termination=('n_gen',ITERACOES),\n",
        "  seed=SEMENTE,\n",
        "  pf=pf,\n",
        "  disp=False,\n",
        "  verbose=VERBO)"
      ],
      "metadata": {
        "id": "rNukf8Mk-VNb"
      },
      "execution_count": null,
      "outputs": []
    },
    {
      "cell_type": "code",
      "source": [
        "#plota o resultado\n",
        "plot = Scatter()\n",
        "plot.add(pf, label=\"pf\", plot_type=\"line\", color=\"black\", alpha=0.7)\n",
        "plot.add(res.F, label=\"F\", edgecolor=\"red\")\n",
        "#plot.add(ref_points, label=\"indivíduos\") #facecolor=\"none\",\n",
        "plot.show()"
      ],
      "metadata": {
        "colab": {
          "base_uri": "https://localhost:8080/",
          "height": 408
        },
        "id": "4MNupeqbAOrt",
        "outputId": "bdfa3c77-d980-476a-87aa-522bafc8702c"
      },
      "execution_count": null,
      "outputs": [
        {
          "output_type": "execute_result",
          "data": {
            "text/plain": [
              "<pymoo.visualization.scatter.Scatter at 0x7f21265b1ad0>"
            ]
          },
          "metadata": {},
          "execution_count": 83
        },
        {
          "output_type": "display_data",
          "data": {
            "text/plain": [
              "<Figure size 576x432 with 1 Axes>"
            ],
            "image/png": "[encoded data removed]"
          },
          "metadata": {
            "needs_background": "light"
          }
        }
      ]
    },
    {
      "cell_type": "code",
      "source": [
        "#exibe curva de convergência dos indivíduos\n",
        "ret = [np.min(e.pop.get(\"F\")) for e in res.history]\n",
        "plt.plot(np.arange(len(ret)), ret)\n",
        "plt.title(\"Curva de Convergência do NSGA\")\n",
        "plt.xlabel(\"Iterações\")\n",
        "plt.ylabel(\"Melhor Posições (F)\")\n",
        "plt.legend()\n",
        "plt.show()"
      ],
      "metadata": {
        "colab": {
          "base_uri": "https://localhost:8080/",
          "height": 312
        },
        "id": "734RtjUJo7d1",
        "outputId": "652d4ebd-21ad-4d6c-9182-f5aa11f8f715"
      },
      "execution_count": null,
      "outputs": [
        {
          "output_type": "stream",
          "name": "stderr",
          "text": [
            "No handles with labels found to put in legend.\n"
          ]
        },
        {
          "output_type": "display_data",
          "data": {
            "text/plain": [
              "<Figure size 432x288 with 1 Axes>"
            ],
            "image/png": "[encoded data removed]"
          },
          "metadata": {
            "needs_background": "light"
          }
        }
      ]
    },
    {
      "cell_type": "code",
      "source": [
        "#otimizações calculadas\n",
        "for i in range(POPULACAO):\n",
        "  print(\"i:\",i,\"otimização:\",res.F[i])\n",
        "#print(\"NSGA2: Melhor Solução: \\nX = %s\\nF = %s\" % (res.X, res.F))"
      ],
      "metadata": {
        "colab": {
          "base_uri": "https://localhost:8080/"
        },
        "id": "tKjQMd2rm1Fl",
        "outputId": "0bbef03f-c9a3-4679-b505-2779722f9bd0"
      },
      "execution_count": null,
      "outputs": [
        {
          "output_type": "stream",
          "name": "stdout",
          "text": [
            "i: 0 otimização: [0.6294933  0.11465537]\n",
            "i: 1 otimização: [0.18271705 0.43245894]\n",
            "i: 2 otimização: [0.44727597 0.17093871]\n",
            "i: 3 otimização: [0.48525295 0.15658057]\n",
            "i: 4 otimização: [0.51803312 0.14606665]\n",
            "i: 5 otimização: [0.30514853 0.25606114]\n",
            "i: 6 otimização: [0.60018542 0.12123912]\n",
            "i: 7 otimização: [0.41698066 0.18579694]\n",
            "i: 8 otimização: [0.25122031 0.31375815]\n",
            "i: 9 otimização: [0.26527829 0.30004357]\n",
            "i: 10 otimização: [0.27868525 0.28400922]\n",
            "i: 11 otimização: [0.29307854 0.27175742]\n",
            "i: 12 otimização: [0.54607496 0.13609868]\n",
            "i: 13 otimização: [0.32809334 0.23703383]\n",
            "i: 14 otimização: [0.22719942 0.35129359]\n",
            "i: 15 otimização: [0.24099069 0.33219423]\n",
            "i: 16 otimização: [0.57225453 0.12901076]\n",
            "i: 17 otimização: [0.20289526 0.38366905]\n",
            "i: 18 otimização: [0.36090313 0.22005854]\n",
            "i: 19 otimização: [0.33901005 0.23203881]\n"
          ]
        }
      ]
    }
  ]
}