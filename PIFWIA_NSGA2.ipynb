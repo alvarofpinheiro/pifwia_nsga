{
  "nbformat": 4,
  "nbformat_minor": 0,
  "metadata": {
    "colab": {
      "name": "PIFWIA_NSGA2.ipynb",
      "provenance": [],
      "collapsed_sections": [],
      "include_colab_link": true
    },
    "kernelspec": {
      "name": "python3",
      "display_name": "Python 3"
    }
  },
  "cells": [
    {
      "cell_type": "markdown",
      "metadata": {
        "id": "view-in-github",
        "colab_type": "text"
      },
      "source": [
        "<a href=\"https://colab.research.google.com/github/alvarofpinheiro/pifwia_nsga2/blob/main/PIFWIA_NSGA2.ipynb\" target=\"_parent\"><img src=\"https://colab.research.google.com/assets/colab-badge.svg\" alt=\"Open In Colab\"/></a>"
      ]
    },
    {
      "cell_type": "markdown",
      "source": [
        "NSGA2 - Non-dominated Sorting Genetic Algorithm ou Algoritmo Genético de Classificação Não Dominado é uma metaheurística para otimização multiobjetivo que pode ser denominada de \"programação multiobjetivo\" ou \"otimização vetorial\" ou \"otimização multicritério\" ou \"otimização multiatributo\" ou \"otimização de Pareto\", sendo uma área de tomada de decisão com múltiplos objetivos a serem otimizados simultaneamente de dois ou mais objetivos conflitantes.\n",
        "\n",
        "Deb, K.; Pratap, A.; Agarwal, S.; Meyarivan, T. A fast and elitist multiobjective genetic algorithm: NSGA-II. IEEE Transactions on Evolutionary Computation (Volume: 6, Issue: 2). https://doi.org/10.1109/4235.996017, 2002.\n",
        "\n",
        "pymoo: Multi-objective Optimization in Python https://pymoo.org/"
      ],
      "metadata": {
        "id": "Ji1oTtz8mE9L"
      }
    },
    {
      "cell_type": "code",
      "source": [
        "#instala biblioteca Orange Canvas e pymoo (otimização multiobjetivo)\n",
        "!pip install Orange3\n",
        "!pip install pymoo"
      ],
      "metadata": {
        "id": "AZL3imHRqNv4"
      },
      "execution_count": null,
      "outputs": []
    },
    {
      "cell_type": "code",
      "metadata": {
        "id": "kSF-_chACklb"
      },
      "source": [
        "#importa bibliotecas\n",
        "import Orange\n",
        "import random\n",
        "import math\n",
        "import numpy as np\n",
        "from tqdm import tqdm\n",
        "import matplotlib.pyplot as plt\n",
        "from numpy.random import choice\n",
        "from pymoo.algorithms.moo.nsga2 import NSGA2\n",
        "from pymoo.factory import get_problem, get_reference_directions, get_visualization\n",
        "from pymoo.visualization.star_coordinate import StarCoordinate\n",
        "from pymoo.util.plotting import plot\n",
        "from pymoo.optimize import minimize\n",
        "from pymoo.visualization.scatter import Scatter\n",
        "from tqdm import tqdm"
      ],
      "execution_count": null,
      "outputs": []
    },
    {
      "cell_type": "code",
      "source": [
        "#define os hiperparâmetros\n",
        "OBJETIVOS = [\"Eficiência\",\"Eficácia\"] #quantidade de objetivos distintos a serem resolvidos\n",
        "DIMENSOES = 3 #determina a quantidade de dimensões do problema\n",
        "ITERACOES = 200 #quantiddade máxima de ciclos (episódios) especificando quantas explorações podem ser realizadas\n",
        "POPULACAO = 10 #tamanho da população correspondente ao indivíduo\n",
        "E1 = -100 #extremo esquerdo eixo x\n",
        "E2 = 100 #extremo direito eixo x\n",
        "E3 = -100 #extremo inferior eixo y\n",
        "E4 = 100 #extremo superior eixo y\n",
        "LIMITES = [E1, E4] #(bound) determina os valores mínimos e máximos do espaço de busca\n",
        "SEMENTE=1 #valor de inicialização\n",
        "INDIVIDUOS = [] #(swarm) array da criação dos indivíduos da população"
      ],
      "metadata": {
        "id": "eq1IiXrNqYjP"
      },
      "execution_count": null,
      "outputs": []
    },
    {
      "cell_type": "code",
      "source": [
        "#importa dados\n",
        "from google.colab import files  \n",
        "files.upload()"
      ],
      "metadata": {
        "id": "ZqKsxZlZq5_3",
        "colab": {
          "resources": {
            "http://localhost:8080/nbextensions/google.colab/files.js": {
              "data": "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",
              "ok": true,
              "headers": [
                [
                  "content-type",
                  "application/javascript"
                ]
              ],
              "status": 200,
              "status_text": ""
            }
          },
          "base_uri": "https://localhost:8080/",
          "height": 110
        },
        "outputId": "d0340bc6-2a2a-4860-fa9a-f275bb708aa2"
      },
      "execution_count": null,
      "outputs": [
        {
          "output_type": "display_data",
          "data": {
            "text/plain": [
              "<IPython.core.display.HTML object>"
            ],
            "text/html": [
              "\n",
              "     <input type=\"file\" id=\"files-84232efb-0d17-4fe7-917f-e90df6936e0f\" name=\"files[]\" multiple disabled\n",
              "        style=\"border:none\" />\n",
              "     <output id=\"result-84232efb-0d17-4fe7-917f-e90df6936e0f\">\n",
              "      Upload widget is only available when the cell has been executed in the\n",
              "      current browser session. Please rerun this cell to enable.\n",
              "      </output>\n",
              "      <script src=\"/nbextensions/google.colab/files.js\"></script> "
            ]
          },
          "metadata": {}
        },
        {
          "output_type": "stream",
          "name": "stdout",
          "text": [
            "Saving dados.csv to dados (1).csv\n"
          ]
        },
        {
          "output_type": "execute_result",
          "data": {
            "text/plain": [
              "{'dados.csv': b'\\xef\\xbb\\xbfPROCURADOR;PROCESSO;COMPLEXIDADE;PAGINA;PRAZO;REVISOES;ENTREGA;VALOR(milR$)\\r\\nProcurador1;2022000205;2;37;10;2;18;79\\r\\nProcurador2;2022000229;2;2;5;4;16;56\\r\\nProcurador3;2022000243;4;82;15;2;28;81\\r\\nProcurador4;2022000305;2;17;10;4;36;64\\r\\nProcurador5;2022000413;3;11;10;1;9;23\\r\\nProcurador6;2022000448;2;48;10;5;45;84\\r\\nProcurador7;2022000480;1;18;10;3;27;30\\r\\nProcurador8;2022000487;1;3;5;1;4;93\\r\\nProcurador9;2022000622;2;4;5;2;8;61\\r\\nProcurador10;2022000631;1;7;5;5;20;4\\r\\nProcurador11;2022000751;2;27;10;5;45;53\\r\\nProcurador12;2022000776;2;48;10;3;27;31\\r\\nProcurador13;2022000843;3;89;15;1;14;46\\r\\nProcurador14;2022001097;4;11;10;4;36;97\\r\\nProcurador15;2022000192;1;6;5;5;20;68\\r\\nProcurador16;2022000274;3;64;15;1;14;32\\r\\nProcurador17;2022000387;3;18;10;2;18;59\\r\\nProcurador18;2022000388;3;5;5;1;4;29\\r\\nProcurador19;2022000572;4;73;15;5;70;20\\r\\nProcurador20;2022000747;2;7;5;4;16;75\\r\\nProcurador21;2022000895;2;49;10;1;9;89\\r\\nProcurador22;2022001081;3;42;10;4;36;64\\r\\nProcurador23;2022000151;3;66;15;2;28;82\\r\\nProcurador24;2022000184;2;74;15;2;28;22\\r\\nProcurador25;2022000396;1;49;10;3;27;89\\r\\nProcurador26;2022000479;1;21;10;4;36;93\\r\\nProcurador27;2022000617;2;7;5;5;20;96\\r\\nProcurador28;2022000664;1;6;5;4;16;97\\r\\nProcurador29;2022000800;3;62;15;3;42;34\\r\\nProcurador30;2022000834;4;45;10;4;36;2\\r\\nProcurador31;2022000990;2;7;5;2;8;11\\r\\nProcurador32;2022001031;3;26;10;2;18;39\\r\\nProcurador33;2022001085;3;75;15;2;28;24\\r\\nProcurador34;2022000193;3;7;5;5;20;97\\r\\nProcurador35;2022000269;3;86;15;4;56;3\\r\\nProcurador36;2022000309;2;10;5;3;12;68\\r\\nProcurador37;2022000358;3;58;15;4;56;5\\r\\nProcurador38;2022000359;3;79;15;4;56;37\\r\\nProcurador39;2022000461;2;9;5;4;16;51\\r\\nProcurador40;2022000605;2;12;10;5;45;35\\r\\nProcurador41;2022000611;2;15;10;2;18;75\\r\\nProcurador42;2022000705;3;13;10;2;18;52\\r\\nProcurador43;2022000709;1;17;10;3;27;28\\r\\nProcurador44;2022000791;2;44;10;3;27;26\\r\\nProcurador45;2022000809;2;9;5;2;8;69\\r\\nProcurador46;2022000813;3;62;15;1;14;28\\r\\nProcurador47;2022000867;1;11;10;3;27;24\\r\\nProcurador48;2022000873;1;12;10;5;45;81\\r\\nProcurador49;2022000912;2;10;5;1;4;61\\r\\nProcurador50;2022000929;3;5;5;1;4;14\\r\\nProcurador51;2022000931;3;5;5;2;8;27\\r\\nProcurador52;2022001002;2;13;10;4;36;61\\r\\nProcurador53;2022000609;2;21;10;3;27;69\\r\\nProcurador54;2022000630;1;7;5;5;20;51\\r\\nProcurador55;2022000975;1;9;5;4;16;33\\r\\nProcurador56;2022001000;2;11;10;4;36;40\\r\\nProcurador57;2022000162;3;8;5;1;4;15\\r\\nProcurador58;2022000180;3;58;15;2;28;36\\r\\nProcurador59;2022000218;1;19;10;3;27;99\\r\\nProcurador60;2022000225;1;7;5;2;8;45\\r\\nProcurador61;2022000226;1;15;10;3;27;35\\r\\nProcurador62;2022000232;2;4;5;3;12;38\\r\\nProcurador63;2022000248;1;14;10;2;18;8\\r\\nProcurador64;2022000525;4;65;15;2;28;19\\r\\nProcurador65;2022000634;1;23;10;3;27;11\\r\\nProcurador66;2022000681;3;75;15;1;14;5\\r\\nProcurador67;2022000696;3;43;10;2;18;69\\r\\nProcurador68;2022000835;1;68;15;3;42;23\\r\\nProcurador69;2022000968;2;6;5;3;12;99\\r\\nProcurador70;2022001004;3;14;10;3;27;17\\r\\nProcurador71;2022001023;1;6;5;1;4;38\\r\\nProcurador72;2022001035;2;64;15;2;28;42\\r\\nProcurador73;2022001056;1;11;10;5;45;59\\r\\nProcurador74;2022001104;3;9;5;4;16;34\\r\\nProcurador75;2022000160;3;63;15;2;28;77\\r\\nProcurador76;2022000202;3;29;10;5;45;57\\r\\nProcurador77;2022000392;1;17;10;4;36;36\\r\\nProcurador78;2022000395;3;6;5;5;20;68\\r\\nProcurador79;2022000475;2;4;5;4;16;18\\r\\nProcurador80;2022000663;1;5;5;3;12;59\\r\\nProcurador81;2022000708;3;6;5;3;12;38\\r\\nProcurador82;2022000730;1;4;5;2;8;50\\r\\nProcurador83;2022000754;2;10;5;3;12;14\\r\\nProcurador84;2022000770;1;5;5;2;8;40\\r\\nProcurador85;2022000909;1;7;5;5;20;73\\r\\nProcurador86;2022001046;2;32;10;1;9;39\\r\\nProcurador87;2022000138;1;8;5;3;12;99\\r\\nProcurador88;2022000230;2;19;10;5;45;8\\r\\nProcurador89;2022000297;1;7;5;4;16;66\\r\\nProcurador90;2022000382;2;10;5;5;20;25\\r\\nProcurador1;2022000419;4;49;10;4;36;24\\r\\nProcurador2;2022000426;3;87;15;4;56;67\\r\\nProcurador3;2022000447;1;44;10;4;36;25\\r\\nProcurador4;2022000488;2;58;15;5;70;38\\r\\nProcurador5;2022000529;3;40;10;2;18;13\\r\\nProcurador6;2022000646;1;20;10;3;27;74\\r\\nProcurador7;2022000685;3;82;15;1;14;53\\r\\nProcurador8;2022000736;2;6;5;3;12;3\\r\\nProcurador9;2022000817;3;26;10;3;27;48\\r\\nProcurador10;2022000848;1;21;10;1;9;11\\r\\nProcurador11;2022001071;2;89;15;5;70;16\\r\\nProcurador12;2022001075;4;63;15;5;70;47\\r\\nProcurador13;2022001079;3;13;10;3;27;4\\r\\nProcurador14;2022000174;1;5;5;3;12;39\\r\\nProcurador15;2022000262;3;55;15;3;42;82\\r\\nProcurador16;2022000270;3;84;15;5;70;44\\r\\nProcurador17;2022000307;2;13;10;3;27;81\\r\\nProcurador18;2022000360;2;49;10;4;36;32\\r\\nProcurador19;2022000430;3;29;10;1;9;75\\r\\nProcurador20;2022000438;2;67;15;4;56;23\\r\\nProcurador21;2022000451;1;10;5;2;8;12\\r\\nProcurador22;2022000660;2;52;15;1;14;28\\r\\nProcurador23;2022000787;2;81;15;4;56;50\\r\\nProcurador24;2022000864;3;7;5;5;20;34\\r\\nProcurador25;2022000889;4;22;10;4;36;97\\r\\nProcurador26;2022000910;2;11;10;3;27;98\\r\\nProcurador27;2022001027;3;30;10;2;18;53\\r\\nProcurador28;2022000125;2;13;10;2;18;91\\r\\nProcurador29;2022000159;1;8;5;2;8;95\\r\\nProcurador30;2022000212;2;99;15;2;28;74\\r\\nProcurador31;2022000264;2;47;10;4;36;78\\r\\nProcurador32;2022000301;1;15;10;3;27;70\\r\\nProcurador33;2022000386;3;9;5;4;16;73\\r\\nProcurador34;2022000418;2;34;10;1;9;41\\r\\nProcurador35;2022000434;4;88;15;2;28;47\\r\\nProcurador36;2022000673;4;20;10;2;18;9\\r\\nProcurador37;2022000689;4;83;15;5;70;53\\r\\nProcurador38;2022000911;4;22;10;5;45;91\\r\\nProcurador39;2022000135;2;14;10;1;9;34\\r\\nProcurador40;2022000147;1;10;5;4;16;32\\r\\nProcurador41;2022000209;3;8;5;3;12;83\\r\\nProcurador42;2022000240;3;84;15;3;42;48\\r\\nProcurador43;2022000256;1;63;15;4;56;76\\r\\nProcurador44;2022000279;2;59;15;5;70;64\\r\\nProcurador45;2022000490;1;78;15;5;70;35\\r\\nProcurador46;2022000499;1;13;10;2;18;84\\r\\nProcurador47;2022000758;2;5;5;5;20;13\\r\\nProcurador48;2022000771;1;3;5;5;20;81\\r\\nProcurador49;2022000772;1;13;10;1;9;40\\r\\nProcurador50;2022000900;1;8;5;3;12;73\\r\\nProcurador51;2022001051;3;28;10;5;45;38\\r\\nProcurador52;2022001106;3;91;15;5;70;59\\r\\nProcurador53;2022000127;4;17;10;4;36;29\\r\\nProcurador54;2022000164;1;52;15;2;28;34\\r\\nProcurador55;2022000317;2;11;10;4;36;60\\r\\nProcurador56;2022000429;3;73;15;2;28;14\\r\\nProcurador57;2022000437;3;47;10;1;9;95\\r\\nProcurador58;2022000647;1;13;10;1;9;31\\r\\nProcurador59;2022000735;1;2;5;3;12;58\\r\\nProcurador60;2022000810;3;89;15;5;70;24\\r\\nProcurador61;2022000827;3;46;10;1;9;87\\r\\nProcurador62;2022000959;2;16;10;1;9;28\\r\\nProcurador63;2022001036;1;5;5;3;12;49\\r\\nProcurador64;2022001072;2;50;10;4;36;65\\r\\nProcurador65;2022000137;1;6;5;3;12;69\\r\\nProcurador66;2022000154;1;22;10;3;27;81\\r\\nProcurador67;2022000459;1;8;5;4;16;53\\r\\nProcurador68;2022000545;3;98;15;5;70;80\\r\\nProcurador69;2022000610;2;8;5;3;12;10\\r\\nProcurador70;2022000731;1;60;15;1;14;12\\r\\nProcurador71;2022000739;2;5;5;5;20;17\\r\\nProcurador72;2022000803;3;46;10;2;18;84\\r\\nProcurador73;2022000851;2;19;10;5;45;70\\r\\nProcurador74;2022000880;1;10;5;1;4;24\\r\\nProcurador75;2022001067;2;63;15;5;70;88\\r\\nProcurador76;2022000376;3;6;5;2;8;40\\r\\nProcurador77;2022000524;3;8;5;3;12;81\\r\\nProcurador78;2022000569;3;67;15;1;14;35\\r\\nProcurador79;2022000693;2;85;15;5;70;78\\r\\nProcurador80;2022000829;1;33;10;5;45;75\\r\\nProcurador81;2022001032;2;31;10;3;27;43\\r\\nProcurador82;2022001059;4;18;10;3;27;2\\r\\nProcurador83;2022000182;4;70;15;1;14;21\\r\\nProcurador84;2022000280;3;23;10;2;18;6\\r\\nProcurador85;2022000368;1;7;5;5;20;70\\r\\nProcurador86;2022000408;1;3;5;5;20;30\\r\\nProcurador87;2022000465;4;8;5;5;20;5\\r\\nProcurador88;2022000470;3;19;10;2;18;5\\r\\nProcurador89;2022000553;2;5;5;3;12;58\\r\\nProcurador90;2022000737;2;12;10;3;27;26\\r\\nProcurador1;2022001100;3;80;15;2;28;81\\r\\nProcurador2;2022001103;3;34;10;3;27;76\\r\\nProcurador3;2022000316;1;58;15;1;14;41\\r\\nProcurador4;2022000344;1;34;10;2;18;78\\r\\nProcurador5;2022000507;2;32;10;5;45;36\\r\\nProcurador6;2022000594;2;59;15;3;42;7\\r\\nProcurador7;2022000659;1;3;5;5;20;49\\r\\nProcurador8;2022000674;4;32;10;4;36;70\\r\\nProcurador9;2022000760;4;6;5;5;20;8\\r\\nProcurador10;2022000769;1;5;5;5;20;20\\r\\nProcurador11;2022000868;1;6;5;4;16;94\\r\\nProcurador12;2022000933;2;18;10;1;9;96\\r\\nProcurador13;2022001040;2;34;10;3;27;29\\r\\nProcurador14;2022001066;3;12;10;2;18;61\\r\\nProcurador15;2022000208;1;10;5;5;20;27\\r\\nProcurador16;2022000278;2;36;10;2;18;74\\r\\nProcurador17;2022000327;1;4;5;2;8;99\\r\\nProcurador18;2022000330;1;9;5;1;4;42\\r\\nProcurador19;2022000352;3;62;15;5;70;95\\r\\nProcurador20;2022000377;2;2;5;2;8;86\\r\\nProcurador21;2022000602;2;4;5;3;12;98\\r\\nProcurador22;2022000658;1;5;5;3;12;20\\r\\nProcurador23;2022000703;3;37;10;4;36;33\\r\\nProcurador24;2022000775;2;30;10;2;18;58\\r\\nProcurador25;2022000784;2;8;5;5;20;23\\r\\nProcurador26;2022000820;1;72;15;5;70;2\\r\\nProcurador27;2022000845;1;57;15;5;70;55\\r\\nProcurador28;2022000888;1;9;5;3;12;88\\r\\nProcurador29;2022000969;1;9;5;1;4;97\\r\\nProcurador30;2022000993;2;7;5;1;4;85\\r\\nProcurador31;2022001017;1;10;5;3;12;41\\r\\nProcurador32;2022000136;1;6;5;1;4;12\\r\\nProcurador33;2022000142;1;13;10;5;45;53\\r\\nProcurador34;2022000185;3;49;10;2;18;66\\r\\nProcurador35;2022000254;3;39;10;4;36;21\\r\\nProcurador36;2022000324;1;20;10;5;45;45\\r\\nProcurador37;2022000702;2;88;15;1;14;64\\r\\nProcurador38;2022000722;1;6;5;1;4;31\\r\\nProcurador39;2022000978;3;5;5;1;4;28\\r\\nProcurador40;2022000989;3;18;10;2;18;22\\r\\nProcurador41;2022001042;1;36;10;4;36;48\\r\\nProcurador42;2022001058;2;38;10;5;45;18\\r\\nProcurador43;2022001084;2;55;15;3;42;32\\r\\nProcurador44;2022001089;3;43;10;2;18;28\\r\\nProcurador45;2022000158;3;43;10;2;18;97\\r\\nProcurador46;2022000283;3;51;15;1;14;24\\r\\nProcurador47;2022000285;2;53;15;3;42;70\\r\\nProcurador48;2022000337;1;27;10;1;9;17\\r\\nProcurador49;2022000356;4;72;15;4;56;30\\r\\nProcurador50;2022000514;4;35;10;5;45;12\\r\\nProcurador51;2022000538;2;54;15;2;28;96\\r\\nProcurador52;2022000577;1;4;5;5;20;27\\r\\nProcurador53;2022000581;1;4;5;3;12;5\\r\\nProcurador54;2022000727;1;6;5;4;16;33\\r\\nProcurador55;2022000859;1;4;5;1;4;73\\r\\nProcurador56;2022000885;3;21;10;2;18;90\\r\\nProcurador57;2022000942;1;7;5;3;12;65\\r\\nProcurador58;2022001037;2;61;15;2;28;70\\r\\nProcurador59;2022001039;2;53;15;2;28;81\\r\\nProcurador60;2022001041;1;8;5;3;12;31\\r\\nProcurador61;2022000200;2;9;5;2;8;55\\r\\nProcurador62;2022000275;1;16;10;2;18;18\\r\\nProcurador63;2022000428;3;65;15;4;56;13\\r\\nProcurador64;2022000449;1;51;15;2;28;98\\r\\nProcurador65;2022000766;1;13;10;3;27;37\\r\\nProcurador66;2022000935;3;16;10;2;18;32\\r\\nProcurador67;2022001038;2;21;10;2;18;7\\r\\nProcurador68;2022000357;3;54;15;4;56;67\\r\\nProcurador69;2022000361;2;71;15;5;70;95\\r\\nProcurador70;2022000372;1;9;5;2;8;69\\r\\nProcurador71;2022000391;1;25;10;3;27;45\\r\\nProcurador72;2022000510;2;6;5;3;12;82\\r\\nProcurador73;2022000557;3;50;10;2;18;11\\r\\nProcurador74;2022000627;2;21;10;3;27;26\\r\\nProcurador75;2022000650;2;13;10;4;36;91\\r\\nProcurador76;2022000665;2;80;15;3;42;30\\r\\nProcurador77;2022000781;2;76;15;5;70;73\\r\\nProcurador78;2022000983;2;8;5;1;4;35\\r\\nProcurador79;2022000988;2;10;5;5;20;16\\r\\nProcurador80;2022000997;2;12;10;2;18;42\\r\\nProcurador81;2022001024;2;44;10;5;45;89\\r\\nProcurador82;2022000105;2;24;10;4;36;62\\r\\nProcurador83;2022000122;1;30;10;5;45;84\\r\\nProcurador84;2022000290;2;49;10;5;45;99\\r\\nProcurador85;2022000322;1;16;10;4;36;50\\r\\nProcurador86;2022000513;2;42;10;1;9;80\\r\\nProcurador87;2022000615;2;71;15;3;42;54\\r\\nProcurador88;2022000638;1;6;5;4;16;71\\r\\nProcurador89;2022000862;1;14;10;1;9;42\\r\\nProcurador90;2022000876;2;10;5;5;20;60\\r\\nProcurador1;2022000894;2;43;10;4;36;52\\r\\nProcurador2;2022001025;2;46;10;3;27;5\\r\\nProcurador3;2022000146;1;11;10;2;18;36\\r\\nProcurador4;2022000281;1;16;10;4;36;29\\r\\nProcurador5;2022000481;1;4;5;4;16;78\\r\\nProcurador6;2022000590;4;81;15;4;56;27\\r\\nProcurador7;2022000818;2;6;5;3;12;68\\r\\nProcurador8;2022000844;3;18;10;1;9;54\\r\\nProcurador9;2022000951;2;21;10;5;45;39\\r\\nProcurador10;2022001020;1;5;5;5;20;47\\r\\nProcurador11;2022001107;4;36;10;4;36;91\\r\\nProcurador12;2022000113;1;14;10;2;18;5\\r\\nProcurador13;2022000204;3;22;10;4;36;61\\r\\nProcurador14;2022000292;3;88;15;2;28;40\\r\\nProcurador15;2022000320;3;9;5;4;16;55\\r\\nProcurador16;2022000668;3;22;10;3;27;95\\r\\nProcurador17;2022000839;2;56;15;4;56;15\\r\\nProcurador18;2022000881;1;4;5;1;4;61\\r\\nProcurador19;2022000896;3;23;10;5;45;30\\r\\nProcurador20;2022000927;4;5;5;2;8;29\\r\\nProcurador21;2022000966;4;7;5;5;20;76\\r\\nProcurador22;2022001109;3;68;15;1;14;64\\r\\nProcurador23;2022000161;3;58;15;1;14;10\\r\\nProcurador24;2022000245;4;19;10;4;36;31\\r\\nProcurador25;2022000260;2;74;15;1;14;55\\r\\nProcurador26;2022000303;1;15;10;2;18;60\\r\\nProcurador27;2022000436;3;12;10;2;18;14\\r\\nProcurador28;2022000458;2;10;5;2;8;63\\r\\nProcurador29;2022000471;1;4;5;4;16;80\\r\\nProcurador30;2022000644;1;30;10;1;9;75\\r\\nProcurador31;2022000688;3;40;10;4;36;6\\r\\nProcurador32;2022000699;3;66;15;3;42;55\\r\\nProcurador33;2022000748;2;4;5;2;8;49\\r\\nProcurador34;2022000872;1;13;10;2;18;60\\r\\nProcurador35;2022000954;2;44;10;1;9;87\\r\\nProcurador36;2022000223;2;14;10;2;18;84\\r\\nProcurador37;2022000335;1;67;15;1;14;5\\r\\nProcurador38;2022000474;3;7;5;1;4;99\\r\\nProcurador39;2022000483;1;2;5;5;20;2\\r\\nProcurador40;2022000501;1;3;5;1;4;12\\r\\nProcurador41;2022000528;3;14;10;3;27;64\\r\\nProcurador42;2022000567;1;9;5;2;8;88\\r\\nProcurador43;2022000568;1;7;5;1;4;73\\r\\nProcurador44;2022000582;1;4;5;3;12;82\\r\\nProcurador45;2022000619;2;8;5;1;4;10\\r\\nProcurador46;2022000626;2;4;5;1;4;81\\r\\nProcurador47;2022000700;3;13;10;5;45;62\\r\\nProcurador48;2022000720;1;9;5;3;12;25\\r\\nProcurador49;2022000724;2;8;5;1;4;34\\r\\nProcurador50;2022000884;1;4;5;2;8;59\\r\\nProcurador51;2022000907;1;9;5;1;4;64\\r\\nProcurador52;2022000986;2;4;5;3;12;22\\r\\nProcurador53;2022000995;2;5;5;5;20;2\\r\\nProcurador54;2022001008;2;15;10;3;27;43\\r\\nProcurador55;2022001043;1;13;10;4;36;32\\r\\nProcurador56;2022001077;4;70;15;1;14;35\\r\\nProcurador57;2022000170;1;2;5;1;4;51\\r\\nProcurador58;2022000620;2;5;5;2;8;49\\r\\nProcurador59;2022000676;3;31;10;2;18;32\\r\\nProcurador60;2022000725;2;11;10;1;9;11\\r\\nProcurador61;2022000777;2;66;15;4;56;38\\r\\nProcurador62;2022000824;4;55;15;1;14;69\\r\\nProcurador63;2022000961;1;5;5;2;8;27\\r\\nProcurador64;2022001005;1;9;5;1;4;21\\r\\nProcurador65;2022001014;3;7;5;3;12;26\\r\\nProcurador66;2022000242;1;16;10;3;27;95\\r\\nProcurador67;2022000339;1;78;15;5;70;84\\r\\nProcurador68;2022000380;3;4;5;3;12;30\\r\\nProcurador69;2022000412;3;11;10;1;9;57\\r\\nProcurador70;2022000453;2;10;5;5;20;14\\r\\nProcurador71;2022000468;1;6;5;4;16;23\\r\\nProcurador72;2022000511;2;90;15;4;56;9\\r\\nProcurador73;2022000527;3;25;10;1;9;10\\r\\nProcurador74;2022000559;1;11;10;4;36;17\\r\\nProcurador75;2022000657;1;11;10;3;27;39\\r\\nProcurador76;2022000742;2;18;10;2;18;76\\r\\nProcurador77;2022000783;4;90;15;1;14;67\\r\\nProcurador78;2022000826;4;60;15;1;14;9\\r\\nProcurador79;2022001063;4;26;10;4;36;39\\r\\nProcurador80;2022001098;4;57;15;1;14;51\\r\\nProcurador81;2022000103;3;55;15;5;70;28\\r\\nProcurador82;2022000295;2;22;10;2;18;79\\r\\nProcurador83;2022000315;2;16;10;5;45;55\\r\\nProcurador84;2022000405;3;5;5;5;20;61\\r\\nProcurador85;2022000443;1;86;15;5;70;46\\r\\nProcurador86;2022000477;2;5;5;3;12;39\\r\\nProcurador87;2022000643;1;9;5;1;4;81\\r\\nProcurador88;2022000782;4;62;15;5;70;75\\r\\nProcurador89;2022000805;3;67;15;3;42;83\\r\\nProcurador90;2022000962;2;11;10;3;27;46\\r\\nProcurador1;2022001006;2;8;5;1;4;80\\r\\nProcurador2;2022001053;1;15;10;4;36;9\\r\\nProcurador3;2022001061;4;33;10;2;18;45\\r\\nProcurador4;2022000116;3;82;15;2;28;41\\r\\nProcurador5;2022000168;3;22;10;2;18;94\\r\\nProcurador6;2022000171;1;9;5;4;16;30\\r\\nProcurador7;2022000201;1;22;10;5;45;10\\r\\nProcurador8;2022000241;2;86;15;1;14;69\\r\\nProcurador9;2022000282;3;10;5;2;8;34\\r\\nProcurador10;2022000291;4;21;10;5;45;84\\r\\nProcurador11;2022000323;1;10;5;1;4;58\\r\\nProcurador12;2022000497;1;3;5;3;12;29\\r\\nProcurador13;2022000595;2;15;10;2;18;26\\r\\nProcurador14;2022000728;2;81;15;4;56;74\\r\\nProcurador15;2022000740;2;5;5;3;12;30\\r\\nProcurador16;2022000855;1;7;5;3;12;76\\r\\nProcurador17;2022001078;3;11;10;1;9;52\\r\\nProcurador18;2022001108;4;55;15;5;70;80\\r\\nProcurador19;2022000108;2;37;10;5;45;8\\r\\nProcurador20;2022000178;3;72;15;3;42;86\\r\\nProcurador21;2022000268;3;85;15;2;28;46\\r\\nProcurador22;2022000345;1;69;15;2;28;33\\r\\nProcurador23;2022000518;1;33;10;4;36;11\\r\\nProcurador24;2022000544;2;43;10;1;9;92\\r\\nProcurador25;2022000546;1;59;15;2;28;32\\r\\nProcurador26;2022000586;3;6;5;4;16;15\\r\\nProcurador27;2022000632;1;10;5;2;8;15\\r\\nProcurador28;2022000814;3;18;10;3;27;93\\r\\nProcurador29;2022000117;2;12;10;3;27;56\\r\\nProcurador30;2022000215;3;15;10;3;27;95\\r\\nProcurador31;2022000253;2;70;15;3;42;71\\r\\nProcurador32;2022000255;1;9;5;4;16;92\\r\\nProcurador33;2022000298;3;10;5;3;12;65\\r\\nProcurador34;2022000496;1;62;15;2;28;18\\r\\nProcurador35;2022000812;4;68;15;5;70;43\\r\\nProcurador36;2022000838;2;43;10;2;18;64\\r\\nProcurador37;2022000932;3;5;5;3;12;59\\r\\nProcurador38;2022000960;1;11;10;4;36;92\\r\\nProcurador39;2022000982;3;7;5;2;8;74\\r\\nProcurador40;2022000126;1;32;10;1;9;30\\r\\nProcurador41;2022000207;2;14;10;2;18;11\\r\\nProcurador42;2022000228;1;9;5;5;20;58\\r\\nProcurador43;2022000640;2;15;10;4;36;68\\r\\nProcurador44;2022000672;2;43;10;5;45;4\\r\\nProcurador45;2022000741;2;16;10;1;9;98\\r\\nProcurador46;2022000750;2;10;5;4;16;76\\r\\nProcurador47;2022000808;1;17;10;3;27;51\\r\\nProcurador48;2022000821;3;10;5;1;4;97\\r\\nProcurador49;2022000860;1;16;10;1;9;14\\r\\nProcurador50;2022000906;1;8;5;4;16;68\\r\\nProcurador51;2022000936;1;7;5;2;8;2\\r\\nProcurador52;2022000946;2;3;5;3;12;23\\r\\nProcurador53;2022001026;3;22;10;1;9;60\\r\\nProcurador54;2022001028;4;8;5;2;8;64\\r\\nProcurador55;2022000252;2;87;15;5;70;82\\r\\nProcurador56;2022000318;2;68;15;1;14;24\\r\\nProcurador57;2022000566;2;8;5;1;4;24\\r\\nProcurador58;2022000684;3;48;10;4;36;54\\r\\nProcurador59;2022000796;4;48;10;1;9;79\\r\\nProcurador60;2022000828;3;27;10;1;9;50\\r\\nProcurador61;2022000141;1;8;5;4;16;17\\r\\nProcurador62;2022000400;1;4;5;4;16;44\\r\\nProcurador63;2022000547;3;51;15;3;42;29\\r\\nProcurador64;2022000560;1;75;15;3;42;8\\r\\nProcurador65;2022000573;3;65;15;4;56;96\\r\\nProcurador66;2022000695;2;68;15;3;42;59\\r\\nProcurador67;2022000840;3;98;15;2;28;41\\r\\nProcurador68;2022001015;2;6;5;3;12;57\\r\\nProcurador69;2022000306;2;12;10;3;27;9\\r\\nProcurador70;2022000404;3;25;10;3;27;49\\r\\nProcurador71;2022000612;2;91;15;1;14;35\\r\\nProcurador72;2022000623;2;39;10;5;45;94\\r\\nProcurador73;2022000679;3;11;10;1;9;73\\r\\nProcurador74;2022000752;3;8;5;4;16;97\\r\\nProcurador75;2022000790;3;26;10;4;36;31\\r\\nProcurador76;2022000857;2;6;5;5;20;58\\r\\nProcurador77;2022000231;1;13;10;4;36;72\\r\\nProcurador78;2022000502;1;24;10;1;9;19\\r\\nProcurador79;2022000503;4;37;10;2;18;26\\r\\nProcurador80;2022000532;3;23;10;3;27;74\\r\\nProcurador81;2022000561;1;87;15;4;56;59\\r\\nProcurador82;2022000625;2;12;10;5;45;11\\r\\nProcurador83;2022000686;3;18;10;1;9;50\\r\\nProcurador84;2022000874;1;9;5;3;12;42\\r\\nProcurador85;2022001021;1;9;5;5;20;55\\r\\nProcurador86;2022000263;3;51;15;1;14;58\\r\\nProcurador87;2022000266;4;69;15;4;56;9\\r\\nProcurador88;2022000375;3;4;5;3;12;55\\r\\nProcurador89;2022000441;2;72;15;1;14;13\\r\\nProcurador90;2022000444;3;67;15;2;28;57\\r\\nProcurador1;2022000519;4;86;15;4;56;31\\r\\nProcurador2;2022000575;1;4;5;3;12;14\\r\\nProcurador3;2022000785;3;32;10;4;36;35\\r\\nProcurador4;2022000823;4;57;15;5;70;51\\r\\nProcurador5;2022000952;1;2;5;4;16;59\\r\\nProcurador6;2022000974;3;30;10;5;45;25\\r\\nProcurador7;2022000998;2;5;5;1;4;91\\r\\nProcurador8;2022001065;3;20;10;4;36;57\\r\\nProcurador9;2022001069;2;61;15;3;42;58\\r\\nProcurador10;2022000107;3;44;10;5;45;87\\r\\nProcurador11;2022000300;1;13;10;1;9;37\\r\\nProcurador12;2022000432;3;26;10;3;27;79\\r\\nProcurador13;2022000542;3;32;10;1;9;79\\r\\nProcurador14;2022000869;1;7;5;3;12;16\\r\\nProcurador15;2022000890;2;21;10;2;18;44\\r\\nProcurador16;2022000892;1;17;10;4;36;44\\r\\nProcurador17;2022000958;1;11;10;2;18;43\\r\\nProcurador18;2022000149;1;51;15;2;28;50\\r\\nProcurador19;2022000189;1;69;15;2;28;71\\r\\nProcurador20;2022000789;3;11;10;1;9;28\\r\\nProcurador21;2022000940;2;6;5;1;4;3\\r\\nProcurador22;2022000945;1;11;10;2;18;44\\r\\nProcurador23;2022000953;1;2;5;5;20;82\\r\\nProcurador24;2022000994;1;9;5;5;20;82\\r\\nProcurador25;2022001083;4;44;10;3;27;84\\r\\nProcurador26;2022001096;1;11;10;1;9;15\\r\\nProcurador27;2022000110;1;10;5;2;8;39\\r\\nProcurador28;2022000163;4;20;10;4;36;51\\r\\nProcurador29;2022000224;1;7;5;5;20;74\\r\\nProcurador30;2022000247;1;76;15;4;56;80\\r\\nProcurador31;2022000250;2;26;10;4;36;48\\r\\nProcurador32;2022000338;1;87;15;5;70;85\\r\\nProcurador33;2022000531;1;49;10;5;45;99\\r\\nProcurador34;2022000786;3;27;10;3;27;61\\r\\nProcurador35;2022001018;1;11;10;2;18;4\\r\\nProcurador36;2022001060;3;18;10;4;36;54\\r\\nProcurador37;2022000139;2;13;10;5;45;95\\r\\nProcurador38;2022000145;1;21;10;1;9;62\\r\\nProcurador39;2022000153;1;3;5;5;20;58\\r\\nProcurador40;2022000169;1;6;5;4;16;84\\r\\nProcurador41;2022000222;4;25;10;1;9;96\\r\\nProcurador42;2022000326;2;68;15;3;42;42\\r\\nProcurador43;2022000381;3;9;5;5;20;57\\r\\nProcurador44;2022000431;3;55;15;1;14;69\\r\\nProcurador45;2022000509;4;6;5;1;4;96\\r\\nProcurador46;2022000515;3;91;15;2;28;82\\r\\nProcurador47;2022000570;3;62;15;3;42;39\\r\\nProcurador48;2022000603;1;5;5;3;12;12\\r\\nProcurador49;2022000653;1;74;15;5;70;16\\r\\nProcurador50;2022000850;1;11;10;1;9;78\\r\\nProcurador51;2022000179;3;48;10;5;45;67\\r\\nProcurador52;2022000199;3;75;15;5;70;45\\r\\nProcurador53;2022000271;2;41;10;4;36;99\\r\\nProcurador54;2022000287;1;14;10;3;27;19\\r\\nProcurador55;2022000416;3;49;10;3;27;41\\r\\nProcurador56;2022000551;2;80;15;3;42;98\\r\\nProcurador57;2022000578;1;4;5;4;16;13\\r\\nProcurador58;2022000596;1;15;10;5;45;43\\r\\nProcurador59;2022000661;1;10;5;5;20;21\\r\\nProcurador60;2022000795;4;61;15;1;14;64\\r\\nProcurador61;2022000825;4;33;10;3;27;77\\r\\nProcurador62;2022000866;1;9;5;2;8;23\\r\\nProcurador63;2022000925;1;6;5;4;16;86\\r\\nProcurador64;2022001070;4;69;15;2;28;58\\r\\nProcurador65;2022000539;2;56;15;3;42;32\\r\\nProcurador66;2022000592;1;2;5;3;12;57\\r\\nProcurador67;2022000687;3;8;5;1;4;14\\r\\nProcurador68;2022000690;2;29;10;4;36;25\\r\\nProcurador69;2022000716;1;4;5;5;20;84\\r\\nProcurador70;2022000721;1;24;10;5;45;76\\r\\nProcurador71;2022000768;1;23;10;2;18;53\\r\\nProcurador72;2022000833;3;12;10;2;18;74\\r\\nProcurador73;2022000947;1;4;5;2;8;95\\r\\nProcurador74;2022001074;3;47;10;5;45;16\\r\\nProcurador75;2022000237;3;40;10;1;9;21\\r\\nProcurador76;2022000353;3;72;15;5;70;28\\r\\nProcurador77;2022000421;3;45;10;4;36;33\\r\\nProcurador78;2022000522;2;67;15;1;14;17\\r\\nProcurador79;2022000649;1;20;10;4;36;67\\r\\nProcurador80;2022000667;1;18;10;5;45;9\\r\\nProcurador81;2022000763;1;4;5;5;20;89\\r\\nProcurador82;2022000794;3;82;15;3;42;5\\r\\nProcurador83;2022001034;2;50;10;5;45;97\\r\\nProcurador84;2022000148;1;46;10;4;36;39\\r\\nProcurador85;2022000165;1;35;10;1;9;57\\r\\nProcurador86;2022000457;1;49;10;4;36;35\\r\\nProcurador87;2022000624;2;4;5;2;8;73\\r\\nProcurador88;2022000788;4;57;15;2;28;82\\r\\nProcurador89;2022000846;3;77;15;4;56;18\\r\\nProcurador90;2022001009;1;6;5;2;8;84\\r\\nProcurador1;2022000217;2;56;15;5;70;65\\r\\nProcurador2;2022000234;1;5;5;1;4;3\\r\\nProcurador3;2022000257;2;44;10;5;45;15\\r\\nProcurador4;2022000259;1;24;10;3;27;43\\r\\nProcurador5;2022000273;4;44;10;4;36;67\\r\\nProcurador6;2022000793;3;23;10;3;27;9\\r\\nProcurador7;2022001080;4;71;15;1;14;9\\r\\nProcurador8;2022000251;1;90;15;4;56;20\\r\\nProcurador9;2022000389;2;12;10;2;18;57\\r\\nProcurador10;2022000530;3;73;15;5;70;64\\r\\nProcurador11;2022000534;4;31;10;2;18;65\\r\\nProcurador12;2022000563;1;67;15;4;56;39\\r\\nProcurador13;2022000608;2;12;10;3;27;20\\r\\nProcurador14;2022000682;3;88;15;1;14;53\\r\\nProcurador15;2022000733;2;5;5;3;12;42\\r\\nProcurador16;2022000914;2;25;10;1;9;48\\r\\nProcurador17;2022000919;3;23;10;2;18;39\\r\\nProcurador18;2022000235;1;6;5;5;20;8\\r\\nProcurador19;2022000311;2;10;5;4;16;75\\r\\nProcurador20;2022000425;1;23;10;2;18;48\\r\\nProcurador21;2022000446;3;67;15;5;70;65\\r\\nProcurador22;2022000478;3;5;5;2;8;40\\r\\nProcurador23;2022000641;2;11;10;2;18;30\\r\\nProcurador24;2022000652;1;71;15;5;70;34\\r\\nProcurador25;2022000744;2;5;5;5;20;4\\r\\nProcurador26;2022000811;3;53;15;5;70;44\\r\\nProcurador27;2022001050;1;8;5;5;20;95\\r\\nProcurador28;2022000132;3;93;15;1;14;59\\r\\nProcurador29;2022000328;2;36;10;2;18;32\\r\\nProcurador30;2022000407;1;3;5;2;8;52\\r\\nProcurador31;2022000422;3;52;15;1;14;67\\r\\nProcurador32;2022000520;4;25;10;4;36;23\\r\\nProcurador33;2022000799;1;42;10;4;36;19\\r\\nProcurador34;2022000822;2;43;10;3;27;91\\r\\nProcurador35;2022000847;3;35;10;5;45;28\\r\\nProcurador36;2022000923;3;11;10;5;45;43\\r\\nProcurador37;2022000991;3;15;10;5;45;85\\r\\nProcurador38;2022000366;1;66;15;3;42;56\\r\\nProcurador39;2022000402;3;34;10;1;9;99\\r\\nProcurador40;2022000517;3;68;15;1;14;36\\r\\nProcurador41;2022000526;3;30;10;1;9;7\\r\\nProcurador42;2022000749;2;8;5;1;4;42\\r\\nProcurador43;2022000852;1;10;5;5;20;34\\r\\nProcurador44;2022000948;2;15;10;2;18;80\\r\\nProcurador45;2022000977;2;5;5;3;12;48\\r\\nProcurador46;2022000220;2;58;15;4;56;71\\r\\nProcurador47;2022000277;1;28;10;4;36;25\\r\\nProcurador48;2022000516;3;26;10;4;36;3\\r\\nProcurador49;2022000533;4;40;10;5;45;78\\r\\nProcurador50;2022000552;1;98;15;4;56;68\\r\\nProcurador51;2022000831;4;85;15;4;56;87\\r\\nProcurador52;2022000836;3;65;15;1;14;27\\r\\nProcurador53;2022001016;2;6;5;5;20;69\\r\\nProcurador54;2022001057;1;12;10;2;18;92\\r\\nProcurador55;2022001068;3;80;15;3;42;2\\r\\nProcurador56;2022001092;3;40;10;5;45;91\\r\\nProcurador57;2022000129;3;54;15;2;28;35\\r\\nProcurador58;2022000187;3;29;10;2;18;97\\r\\nProcurador59;2022000216;2;13;10;5;45;41\\r\\nProcurador60;2022000258;2;33;10;1;9;15\\r\\nProcurador61;2022000288;1;6;5;3;12;64\\r\\nProcurador62;2022000401;2;26;10;3;27;85\\r\\nProcurador63;2022000420;4;84;15;5;70;35\\r\\nProcurador64;2022000472;2;6;5;1;4;46\\r\\nProcurador65;2022000556;1;12;10;3;27;27\\r\\nProcurador66;2022000579;2;27;10;4;36;15\\r\\nProcurador67;2022000712;1;7;5;1;4;83\\r\\nProcurador68;2022000856;3;19;10;2;18;92\\r\\nProcurador69;2022000921;2;21;10;4;36;92\\r\\nProcurador70;2022000928;1;8;5;2;8;48\\r\\nProcurador71;2022001033;1;6;5;2;8;57\\r\\nProcurador72;2022001076;3;79;15;2;28;60\\r\\nProcurador73;2022000119;2;97;15;5;70;92\\r\\nProcurador74;2022000265;4;62;15;2;28;21\\r\\nProcurador75;2022000378;3;12;10;2;18;88\\r\\nProcurador76;2022000495;3;57;15;5;70;36\\r\\nProcurador77;2022000583;1;6;5;4;16;51\\r\\nProcurador78;2022000656;1;87;15;1;14;39\\r\\nProcurador79;2022000662;2;40;10;3;27;68\\r\\nProcurador80;2022000743;2;7;5;3;12;99\\r\\nProcurador81;2022000746;2;25;10;5;45;7\\r\\nProcurador82;2022000756;1;5;5;1;4;74\\r\\nProcurador83;2022000332;1;48;10;4;36;9\\r\\nProcurador84;2022000774;1;3;5;3;12;56\\r\\nProcurador85;2022000976;2;21;10;4;36;40\\r\\nProcurador86;2022001019;2;4;5;4;16;21\\r\\nProcurador87;2022001088;3;33;10;4;36;25\\r\\nProcurador88;2022000115;4;8;5;1;4;18\\r\\nProcurador89;2022000181;4;90;15;4;56;75\\r\\nProcurador90;2022000321;1;7;5;2;8;88\\r\\nProcurador1;2022000411;3;7;5;4;16;42\\r\\nProcurador2;2022000442;3;50;10;3;27;33\\r\\nProcurador3;2022000584;2;8;5;3;12;31\\r\\nProcurador4;2022000635;1;40;10;3;27;2\\r\\nProcurador5;2022000680;4;69;15;4;56;91\\r\\nProcurador6;2022000801;3;5;5;4;16;84\\r\\nProcurador7;2022000903;2;8;5;3;12;14\\r\\nProcurador8;2022000938;2;5;5;1;4;98\\r\\nProcurador9;2022001022;2;4;5;2;8;5\\r\\nProcurador10;2022001030;1;7;5;4;16;10\\r\\nProcurador11;2022000183;3;58;15;3;42;81\\r\\nProcurador12;2022000342;1;4;5;5;20;72\\r\\nProcurador13;2022000887;2;21;10;1;9;37\\r\\nProcurador14;2022000950;1;7;5;5;20;69\\r\\nProcurador15;2022000304;2;21;10;4;36;7\\r\\nProcurador16;2022000455;1;7;5;1;4;4\\r\\nProcurador17;2022000456;1;83;15;1;14;54\\r\\nProcurador18;2022000506;3;42;10;2;18;92\\r\\nProcurador19;2022000597;2;11;10;4;36;89\\r\\nProcurador20;2022000666;1;3;5;3;12;26\\r\\nProcurador21;2022000837;2;98;15;4;56;40\\r\\nProcurador22;2022000920;2;8;5;4;16;15\\r\\nProcurador23;2022001012;2;7;5;3;12;97\\r\\nProcurador24;2022000121;1;36;10;4;36;14\\r\\nProcurador25;2022000176;1;64;15;3;42;76\\r\\nProcurador26;2022000435;3;77;15;5;70;10\\r\\nProcurador27;2022000521;2;31;10;5;45;37\\r\\nProcurador28;2022000854;2;8;5;3;12;4\\r\\nProcurador29;2022000870;1;17;10;4;36;4\\r\\nProcurador30;2022000871;1;9;5;1;4;38\\r\\nProcurador31;2022000934;4;13;10;3;27;43\\r\\nProcurador32;2022000949;1;12;10;4;36;34\\r\\nProcurador33;2022000111;2;32;10;5;45;43\\r\\nProcurador34;2022000302;1;19;10;2;18;68\\r\\nProcurador35;2022000371;2;19;10;4;36;90\\r\\nProcurador36;2022000540;3;30;10;3;27;8\\r\\nProcurador37;2022000588;1;14;10;3;27;22\\r\\nProcurador38;2022000882;2;22;10;3;27;10\\r\\nProcurador39;2022001095;4;24;10;2;18;61\\r\\nProcurador40;2022000120;4;87;15;5;70;60\\r\\nProcurador41;2022000173;3;40;10;3;27;30\\r\\nProcurador42;2022000284;2;68;15;2;28;8\\r\\nProcurador43;2022000346;1;87;15;4;56;97\\r\\nProcurador44;2022000415;2;61;15;1;14;76\\r\\nProcurador45;2022000580;2;3;5;5;20;92\\r\\nProcurador46;2022000642;1;9;5;4;16;27\\r\\nProcurador47;2022000861;3;20;10;5;45;21\\r\\nProcurador48;2022000109;1;11;10;2;18;22\\r\\nProcurador49;2022000157;1;11;10;2;18;61\\r\\nProcurador50;2022000195;1;8;5;1;4;24\\r\\nProcurador51;2022000390;1;53;15;2;28;96\\r\\nProcurador52;2022000433;3;36;10;3;27;51\\r\\nProcurador53;2022000494;1;10;5;2;8;65\\r\\nProcurador54;2022000535;1;7;5;4;16;83\\r\\nProcurador55;2022000562;1;66;15;1;14;72\\r\\nProcurador56;2022000698;4;85;15;4;56;5\\r\\nProcurador57;2022000719;1;26;10;4;36;23\\r\\nProcurador58;2022000964;3;8;5;1;4;73\\r\\nProcurador59;2022001048;1;8;5;4;16;84\\r\\nProcurador60;2022001093;4;31;10;4;36;47\\r\\nProcurador61;2022001105;3;74;15;1;14;93\\r\\nProcurador62;2022000112;2;13;10;3;27;13\\r\\nProcurador63;2022000140;2;13;10;3;27;86\\r\\nProcurador64;2022000188;3;31;10;2;18;21\\r\\nProcurador65;2022000349;4;59;15;5;70;78\\r\\nProcurador66;2022000370;4;12;10;3;27;42\\r\\nProcurador67;2022000383;3;8;5;4;16;86\\r\\nProcurador68;2022000410;2;48;10;3;27;82\\r\\nProcurador69;2022000466;1;3;5;1;4;22\\r\\nProcurador70;2022000571;3;67;15;4;56;83\\r\\nProcurador71;2022000692;3;7;5;2;8;8\\r\\nProcurador72;2022000714;4;15;10;5;45;86\\r\\nProcurador73;2022000717;1;5;5;1;4;76\\r\\nProcurador74;2022000723;1;5;5;2;8;75\\r\\nProcurador75;2022000755;2;5;5;2;8;45\\r\\nProcurador76;2022000757;2;12;10;2;18;36\\r\\nProcurador77;2022000804;3;49;10;1;9;46\\r\\nProcurador78;2022000879;1;9;5;1;4;27\\r\\nProcurador79;2022000941;1;12;10;3;27;54\\r\\nProcurador80;2022000957;3;6;5;2;8;38\\r\\nProcurador81;2022000987;2;7;5;4;16;6\\r\\nProcurador82;2022000203;4;22;10;2;18;94\\r\\nProcurador83;2022000336;1;2;5;1;4;97\\r\\nProcurador84;2022000462;2;20;10;2;18;88\\r\\nProcurador85;2022000489;1;47;10;4;36;47\\r\\nProcurador86;2022000491;3;7;5;1;4;45\\r\\nProcurador87;2022000492;1;8;5;5;20;27\\r\\nProcurador88;2022000505;1;4;5;2;8;46\\r\\nProcurador89;2022000599;2;5;5;5;20;28\\r\\nProcurador90;2022000607;2;9;5;1;4;29\\r\\nProcurador1;2022000621;2;5;5;1;4;91\\r\\nProcurador2;2022000963;2;12;10;2;18;76\\r\\nProcurador3;2022000999;3;5;5;2;8;62\\r\\nProcurador4;2022000293;1;7;5;1;4;54\\r\\nProcurador5;2022000403;3;36;10;5;45;48\\r\\nProcurador6;2022000512;4;65;15;1;14;12\\r\\nProcurador7;2022000565;2;14;10;5;45;30\\r\\nProcurador8;2022000675;2;36;10;2;18;46\\r\\nProcurador9;2022000806;3;8;5;5;20;54\\r\\nProcurador10;2022000830;4;10;5;2;8;28\\r\\nProcurador11;2022000865;3;19;10;1;9;4\\r\\nProcurador12;2022000973;1;14;10;3;27;13\\r\\nProcurador13;2022000104;4;43;10;4;36;26\\r\\nProcurador14;2022000333;2;58;15;2;28;39\\r\\nProcurador15;2022000363;4;3;5;3;12;15\\r\\nProcurador16;2022000385;1;8;5;5;20;24\\r\\nProcurador17;2022000406;1;5;5;5;20;49\\r\\nProcurador18;2022000423;3;83;15;1;14;53\\r\\nProcurador19;2022000601;2;15;10;1;9;75\\r\\nProcurador20;2022000628;2;15;10;2;18;25\\r\\nProcurador21;2022000677;3;57;15;3;42;28\\r\\nProcurador22;2022000701;1;89;15;5;70;68\\r\\nProcurador23;2022000901;2;7;5;3;12;48\\r\\nProcurador24;2022000915;2;23;10;2;18;30\\r\\nProcurador25;2022000971;3;28;10;1;9;8\\r\\nProcurador26;2022000312;3;21;10;3;27;43\\r\\nProcurador27;2022000493;3;7;5;4;16;51\\r\\nProcurador28;2022000587;2;20;10;3;27;38\\r\\nProcurador29;2022000779;1;2;5;2;8;89\\r\\nProcurador30;2022000815;2;48;10;4;36;24\\r\\nProcurador31;2022001049;1;8;5;4;16;55\\r\\nProcurador32;2022000131;1;7;5;5;20;2\\r\\nProcurador33;2022000211;2;32;10;3;27;10\\r\\nProcurador34;2022000214;3;32;10;3;27;11\\r\\nProcurador35;2022000351;3;55;15;5;70;3\\r\\nProcurador36;2022000427;3;44;10;4;36;28\\r\\nProcurador37;2022000918;1;9;5;1;4;23\\r\\nProcurador38;2022000972;2;7;5;3;12;39\\r\\nProcurador39;2022001044;1;3;5;2;8;77\\r\\nProcurador40;2022001111;3;32;10;5;45;53\\r\\nProcurador41;2022000101;3;12;10;4;36;13\\r\\nProcurador42;2022000191;2;22;10;1;9;64\\r\\nProcurador43;2022000246;3;48;10;4;36;96\\r\\nProcurador44;2022000310;2;13;10;4;36;73\\r\\nProcurador45;2022000417;4;51;15;3;42;82\\r\\nProcurador46;2022000550;2;25;10;1;9;40\\r\\nProcurador47;2022000558;1;50;10;4;36;89\\r\\nProcurador48;2022000576;1;4;5;5;20;56\\r\\nProcurador49;2022000613;1;10;5;2;8;21\\r\\nProcurador50;2022000616;2;4;5;5;20;52\\r\\nProcurador51;2022000633;1;6;5;5;20;68\\r\\nProcurador52;2022000802;3;64;15;5;70;97\\r\\nProcurador53;2022000902;3;22;10;3;27;39\\r\\nProcurador54;2022000908;1;3;5;4;16;24\\r\\nProcurador55;2022001073;2;30;10;5;45;95\\r\\nProcurador56;2022000206;3;36;10;4;36;46\\r\\nProcurador57;2022000379;4;15;10;1;9;22\\r\\nProcurador58;2022000469;1;10;5;5;20;36\\r\\nProcurador59;2022000593;2;10;5;4;16;88\\r\\nProcurador60;2022000670;4;51;15;4;56;25\\r\\nProcurador61;2022000745;3;7;5;5;20;60\\r\\nProcurador62;2022000753;2;19;10;1;9;66\\r\\nProcurador63;2022000798;3;6;5;2;8;41\\r\\nProcurador64;2022000858;2;30;10;3;27;97\\r\\nProcurador65;2022000156;1;10;5;3;12;51\\r\\nProcurador66;2022000177;2;95;15;1;14;80\\r\\nProcurador67;2022000244;2;19;10;5;45;66\\r\\nProcurador68;2022000267;3;60;15;4;56;80\\r\\nProcurador69;2022000276;2;45;10;1;9;30\\r\\nProcurador70;2022000367;1;6;5;3;12;27\\r\\nProcurador71;2022000585;2;59;15;5;70;9\\r\\nProcurador72;2022000614;2;9;5;2;8;84\\r\\nProcurador73;2022000637;2;28;10;5;45;11\\r\\nProcurador74;2022000655;1;16;10;5;45;81\\r\\nProcurador75;2022000683;3;63;15;2;28;8\\r\\nProcurador76;2022000707;1;70;15;3;42;24\\r\\nProcurador77;2022000773;1;1;5;1;4;95\\r\\nProcurador78;2022000816;1;70;15;5;70;62\\r\\nProcurador79;2022000849;1;12;10;1;9;53\\r\\nProcurador80;2022000956;1;13;10;3;27;54\\r\\nProcurador81;2022000992;2;9;5;1;4;46\\r\\nProcurador82;2022000362;3;37;10;4;36;60\\r\\nProcurador83;2022000485;4;9;5;5;20;19\\r\\nProcurador84;2022000606;2;7;5;2;8;42\\r\\nProcurador85;2022000715;3;3;5;2;8;77\\r\\nProcurador86;2022000150;3;79;15;4;56;42\\r\\nProcurador87;2022000186;3;33;10;5;45;38\\r\\nProcurador88;2022000261;4;43;10;5;45;23\\r\\nProcurador89;2022000319;2;8;5;5;20;34\\r\\nProcurador90;2022000486;1;4;5;5;20;23\\r\\nProcurador1;2022000548;3;59;15;2;28;49\\r\\nProcurador2;2022000669;3;14;10;5;45;95\\r\\nProcurador3;2022000711;1;33;10;2;18;22\\r\\nProcurador4;2022000841;3;79;15;2;28;63\\r\\nProcurador5;2022000916;1;9;5;4;16;91\\r\\nProcurador6;2022000926;1;7;5;4;16;59\\r\\nProcurador7;2022001094;3;65;15;3;42;51\\r\\nProcurador8;2022000463;1;7;5;2;8;51\\r\\nProcurador9;2022000899;1;9;5;2;8;21\\r\\nProcurador10;2022000979;2;4;5;4;16;8\\r\\nProcurador11;2022001102;1;39;10;2;18;18\\r\\nProcurador12;2022000134;1;8;5;2;8;84\\r\\nProcurador13;2022000172;2;10;5;3;12;78\\r\\nProcurador14;2022000190;4;38;10;4;36;21\\r\\nProcurador15;2022000289;2;6;5;5;20;9\\r\\nProcurador16;2022000334;3;18;10;1;9;59\\r\\nProcurador17;2022000354;3;29;10;1;9;80\\r\\nProcurador18;2022000574;1;3;5;5;20;99\\r\\nProcurador19;2022000604;3;32;10;5;45;89\\r\\nProcurador20;2022000618;1;32;10;1;9;6\\r\\nProcurador21;2022000678;3;54;15;2;28;61\\r\\nProcurador22;2022000691;3;84;15;2;28;96\\r\\nProcurador23;2022000853;1;8;5;4;16;11\\r\\nProcurador24;2022000917;1;19;10;5;45;92\\r\\nProcurador25;2022001062;2;85;15;3;42;16\\r\\nProcurador26;2022001091;3;68;15;4;56;50\\r\\nProcurador27;2022000233;2;17;10;1;9;23\\r\\nProcurador28;2022000308;2;11;10;2;18;29\\r\\nProcurador29;2022000365;3;89;15;2;28;29\\r\\nProcurador30;2022000409;1;17;10;3;27;55\\r\\nProcurador31;2022000498;3;36;10;4;36;50\\r\\nProcurador32;2022000536;3;13;10;3;27;2\\r\\nProcurador33;2022000555;2;41;10;5;45;87\\r\\nProcurador34;2022000648;1;6;5;5;20;66\\r\\nProcurador35;2022000729;3;16;10;4;36;41\\r\\nProcurador36;2022000792;2;14;10;3;27;91\\r\\nProcurador37;2022000965;1;12;10;4;36;31\\r\\nProcurador38;2022000985;2;22;10;5;45;31\\r\\nProcurador39;2022001101;3;17;10;3;27;42\\r\\nProcurador40;2022000102;3;20;10;4;36;17\\r\\nProcurador41;2022000213;3;12;10;1;9;43\\r\\nProcurador42;2022000294;1;6;5;2;8;40\\r\\nProcurador43;2022000325;2;2;5;5;20;9\\r\\nProcurador44;2022000369;3;7;5;4;16;12\\r\\nProcurador45;2022000397;2;55;15;4;56;24\\r\\nProcurador46;2022000450;1;21;10;5;45;62\\r\\nProcurador47;2022000473;3;5;5;4;16;87\\r\\nProcurador48;2022000549;2;34;10;2;18;52\\r\\nProcurador49;2022000726;1;6;5;3;12;73\\r\\nProcurador50;2022000765;1;4;5;4;16;49\\r\\nProcurador51;2022000891;1;9;5;2;8;79\\r\\nProcurador52;2022000905;1;8;5;5;20;89\\r\\nProcurador53;2022001003;1;10;5;1;4;28\\r\\nProcurador54;2022001045;1;27;10;3;27;24\\r\\nProcurador55;2022001082;3;32;10;5;45;63\\r\\nProcurador56;2022001099;1;48;10;4;36;66\\r\\nProcurador57;2022001113;2;54;15;3;42;59\\r\\nProcurador58;2022000331;1;9;5;5;20;14\\r\\nProcurador59;2022000394;1;7;5;3;12;22\\r\\nProcurador60;2022000424;3;33;10;2;18;54\\r\\nProcurador61;2022000636;1;9;5;5;20;22\\r\\nProcurador62;2022000984;2;16;10;1;9;41\\r\\nProcurador63;2022001013;2;5;5;4;16;6\\r\\nProcurador64;2022001090;3;19;10;2;18;15\\r\\nProcurador65;2022000133;2;47;10;1;9;84\\r\\nProcurador66;2022000236;1;7;5;5;20;86\\r\\nProcurador67;2022000239;1;9;5;5;20;42\\r\\nProcurador68;2022000374;1;52;15;3;42;29\\r\\nProcurador69;2022000732;2;7;5;1;4;51\\r\\nProcurador70;2022000761;2;52;15;2;28;61\\r\\nProcurador71;2022000863;2;19;10;4;36;33\\r\\nProcurador72;2022000898;2;8;5;3;12;34\\r\\nProcurador73;2022000106;1;93;15;3;42;37\\r\\nProcurador74;2022000167;1;8;5;5;20;85\\r\\nProcurador75;2022000249;2;57;15;4;56;35\\r\\nProcurador76;2022000340;1;3;5;3;12;65\\r\\nProcurador77;2022000355;3;52;15;1;14;49\\r\\nProcurador78;2022000464;1;2;5;5;20;84\\r\\nProcurador79;2022000591;1;81;15;3;42;86\\r\\nProcurador80;2022000713;2;17;10;3;27;55\\r\\nProcurador81;2022000759;1;7;5;2;8;86\\r\\nProcurador82;2022000883;1;4;5;3;12;67\\r\\nProcurador83;2022000922;2;26;10;4;36;41\\r\\nProcurador84;2022000937;2;16;10;5;45;49\\r\\nProcurador85;2022000944;2;17;10;5;45;3\\r\\nProcurador86;2022000967;2;5;5;1;4;11\\r\\nProcurador87;2022000981;1;16;10;5;45;22\\r\\nProcurador88;2022000130;3;53;15;4;56;51\\r\\nProcurador89;2022000350;3;76;15;1;14;82\\r\\nProcurador90;2022000414;1;48;10;3;27;90\\r\\nProcurador1;2022000589;2;23;10;1;9;13\\r\\nProcurador2;2022000600;2;6;5;4;16;30\\r\\nProcurador3;2022000842;2;82;15;2;28;8\\r\\nProcurador4;2022000930;1;12;10;1;9;95\\r\\nProcurador5;2022001007;1;6;5;5;20;96\\r\\nProcurador6;2022001055;2;15;10;1;9;26\\r\\nProcurador7;2022001086;3;54;15;5;70;16\\r\\nProcurador8;2022000152;3;92;15;1;14;7\\r\\nProcurador9;2022000393;1;18;10;1;9;78\\r\\nProcurador10;2022000476;1;6;5;3;12;88\\r\\nProcurador11;2022000508;3;50;10;3;27;70\\r\\nProcurador12;2022000537;3;90;15;4;56;69\\r\\nProcurador13;2022000734;1;6;5;3;12;42\\r\\nProcurador14;2022000764;1;11;10;1;9;40\\r\\nProcurador15;2022000886;1;48;10;1;9;2\\r\\nProcurador16;2022001047;1;6;5;2;8;72\\r\\nProcurador17;2022000128;3;77;15;1;14;21\\r\\nProcurador18;2022000144;3;6;5;5;20;5\\r\\nProcurador19;2022000155;1;4;5;4;16;47\\r\\nProcurador20;2022000175;1;6;5;5;20;19\\r\\nProcurador21;2022000221;1;8;5;3;12;75\\r\\nProcurador22;2022000299;1;9;5;1;4;67\\r\\nProcurador23;2022000314;1;19;10;1;9;33\\r\\nProcurador24;2022000343;1;87;15;5;70;5\\r\\nProcurador25;2022000460;3;48;10;1;9;82\\r\\nProcurador26;2022000564;1;76;15;5;70;26\\r\\nProcurador27;2022000654;1;32;10;5;45;75\\r\\nProcurador28;2022000671;3;45;10;2;18;69\\r\\nProcurador29;2022000697;4;38;10;1;9;72\\r\\nProcurador30;2022000710;2;22;10;3;27;81\\r\\nProcurador31;2022000762;1;5;5;5;20;92\\r\\nProcurador32;2022000807;3;20;10;3;27;38\\r\\nProcurador33;2022000832;3;61;15;2;28;92\\r\\nProcurador34;2022001054;1;15;10;4;36;48\\r\\nProcurador35;2022000194;1;4;5;1;4;28\\r\\nProcurador36;2022000196;1;13;10;4;36;41\\r\\nProcurador37;2022000197;1;13;10;3;27;89\\r\\nProcurador38;2022000286;1;7;5;3;12;45\\r\\nProcurador39;2022000296;1;13;10;3;27;60\\r\\nProcurador40;2022000313;4;7;5;3;12;84\\r\\nProcurador41;2022000364;2;77;15;5;70;20\\r\\nProcurador42;2022000398;1;63;15;2;28;31\\r\\nProcurador43;2022000554;1;30;10;3;27;24\\r\\nProcurador44;2022000629;1;7;5;1;4;55\\r\\nProcurador45;2022000767;2;22;10;3;27;4\\r\\nProcurador46;2022000797;3;5;5;4;16;11\\r\\nProcurador47;2022000897;1;8;5;2;8;22\\r\\nProcurador48;2022000970;2;9;5;2;8;77\\r\\nProcurador49;2022001052;1;15;10;2;18;82\\r\\nProcurador50;2022000114;3;51;15;1;14;85\\r\\nProcurador51;2022000124;1;4;5;5;20;81\\r\\nProcurador52;2022000198;1;30;10;1;9;88\\r\\nProcurador53;2022000219;2;17;10;3;27;72\\r\\nProcurador54;2022000238;2;23;10;4;36;5\\r\\nProcurador55;2022000329;2;15;10;2;18;62\\r\\nProcurador56;2022000484;1;12;10;3;27;67\\r\\nProcurador57;2022000694;3;86;15;1;14;38\\r\\nProcurador58;2022000819;2;84;15;2;28;97\\r\\nProcurador59;2022000878;2;5;5;1;4;94\\r\\nProcurador60;2022000913;1;8;5;5;20;42\\r\\nProcurador61;2022001001;2;5;5;4;16;6\\r\\nProcurador62;2022001011;2;17;10;1;9;83\\r\\nProcurador63;2022000143;1;8;5;2;8;48\\r\\nProcurador64;2022000210;2;66;15;3;42;24\\r\\nProcurador65;2022000227;4;82;15;4;56;76\\r\\nProcurador66;2022000272;2;22;10;4;36;28\\r\\nProcurador67;2022000384;3;8;5;3;12;50\\r\\nProcurador68;2022000440;3;88;15;2;28;88\\r\\nProcurador69;2022000500;1;15;10;5;45;52\\r\\nProcurador70;2022000504;1;4;5;5;20;71\\r\\nProcurador71;2022000639;1;8;5;4;16;6\\r\\nProcurador72;2022000704;3;58;15;5;70;25\\r\\nProcurador73;2022000706;3;25;10;3;27;78\\r\\nProcurador74;2022000778;2;17;10;4;36;79\\r\\nProcurador75;2022000955;2;9;5;3;12;5\\r\\nProcurador76;2022001029;1;5;5;1;4;78\\r\\nProcurador77;2022000467;1;7;5;3;12;70\\r\\nProcurador78;2022000482;1;2;5;1;4;69\\r\\nProcurador79;2022000651;1;3;5;3;12;69\\r\\nProcurador80;2022000980;1;10;5;1;4;36\\r\\nProcurador81;2022001064;3;40;10;5;45;17\\r\\nProcurador82;2022000341;2;18;10;5;45;80\\r\\nProcurador83;2022000347;3;28;10;1;9;69\\r\\nProcurador84;2022000348;3;10;5;5;20;45\\r\\nProcurador85;2022000373;1;37;10;1;9;70\\r\\nProcurador86;2022000439;1;21;10;1;9;34\\r\\nProcurador87;2022000445;3;85;15;5;70;41\\r\\nProcurador88;2022000718;1;4;5;4;16;84\\r\\nProcurador89;2022000875;1;7;5;1;4;33\\r\\nProcurador90;2022000877;1;7;5;4;16;2\\r\\nProcurador1;2022000893;1;43;10;5;45;84\\r\\nProcurador2;2022000924;1;10;5;5;20;60\\r\\nProcurador3;2022000939;2;7;5;3;12;64\\r\\nProcurador4;2022001087;3;51;15;2;28;95\\r\\nProcurador5;2022001112;3;50;10;1;9;20\\r\\nProcurador6;2022000118;2;16;10;2;18;18\\r\\nProcurador7;2022000123;1;6;5;4;16;91\\r\\nProcurador8;2022000166;1;53;15;4;56;83\\r\\nProcurador9;2022000452;1;7;5;5;20;50\\r\\nProcurador10;2022000543;4;33;10;3;27;60\\r\\nProcurador11;2022000780;1;35;10;4;36;86\\r\\nProcurador12;2022000943;1;10;5;1;4;61\\r\\nProcurador13;2022000996;2;13;10;5;45;76\\r\\nProcurador14;2022001010;4;5;5;1;4;86\\r\\nProcurador15;2022000399;1;75;15;2;28;3\\r\\nProcurador16;2022000454;1;9;5;1;4;19\\r\\nProcurador17;2022000523;3;5;5;4;16;81\\r\\nProcurador18;2022000541;2;54;15;1;14;88\\r\\nProcurador19;2022000598;1;6;5;4;16;22\\r\\nProcurador20;2022000645;1;72;15;5;70;22\\r\\nProcurador21;2022000738;2;24;10;1;9;87\\r\\nProcurador22;2022000904;1;11;10;3;27;51\\r\\nProcurador23;2022001110;1;81;15;3;42;28\\r\\n'}"
            ]
          },
          "metadata": {},
          "execution_count": 28
        }
      ]
    },
    {
      "cell_type": "code",
      "source": [
        "#instancia objeto de dados com base no caminho gerado na importação do arquivo\n",
        "dados = Orange.data.Table(\"/content/dados.csv\")\n",
        "#explora os metadados e dados da arquivo importado\n",
        "qtde_campos = len(dados.domain.attributes)\n",
        "qtde_cont = sum(1 for a in dados.domain.attributes if a.is_continuous)\n",
        "qtde_disc = sum(1 for a in dados.domain.attributes if a.is_discrete)\n",
        "print(\"%d metadados: %d continuos, %d discretos\" % (qtde_campos, qtde_cont, qtde_disc))\n",
        "print(\"Nome dos metadados:\", \", \".join(dados.domain.attributes[i].name for i in range(qtde_campos)),)\n",
        "dados.domain.attributes #explora os domínios dos atributos (campos da base de dados)\n",
        "print(\"Registros:\", len(dados)) #explora os dados (quantidade de registros da base de dados)\n",
        "i = 0 #exibe os primeiros registros para análise dos dados importados\n",
        "for d in dados[:20]:\n",
        "  i += 1\n",
        "  #print(i, d)\n",
        "#cria arrays das dimensões do problema a ser otimizado\n",
        "procurador = []\n",
        "processo = []\n",
        "complexidade = [] #1-muito baixa complexidade;2-baixa complexidade;3-média complexidade;4-alta complexidade;e,5-muito alta complexidade\n",
        "pagina = []\n",
        "prazo = []\n",
        "revisao = []\n",
        "entrega = []\n",
        "valor = []\n",
        "i = 0\n",
        "for d in dados[:POPULACAO]:\n",
        "  procurador.append(d[0])\n",
        "  processo.append(d[1])\n",
        "  complexidade.append(d[2])\n",
        "  pagina.append(d[3])\n",
        "  prazo.append(d[4])\n",
        "  revisao.append(d[5])\n",
        "  entrega.append(d[6])\n",
        "  valor.append(d[7])\n",
        "  #print(\"id:\",i,\"procurador:\",procurador[i],\"processo:\",processo[i],\"complexidade:\",complexidade[i],\"página:\",pagina[i],\"prazo:\",prazo[i],\"revisões:\",revisao[i],\"entrega:\",entrega[i],\"valor:\",valor[i])\n",
        "  i += 1\n",
        "#definição dos pesos da função objetivo\n",
        "PESOS = [0.2,0.2,0.1,0.1,0.1,0.3] #f(x) = (0.2α + 0.2β + 0.1γ + 0.1δ + 0.1ε + 0.3θ) / 0.10\n",
        "pesos = []\n",
        "for i in range(DIMENSOES):\n",
        "  pesos.append(PESOS[i])\n",
        "print(pesos)"
      ],
      "metadata": {
        "id": "u1UUjLTBq8V-",
        "colab": {
          "base_uri": "https://localhost:8080/"
        },
        "outputId": "32646765-c98e-4a01-ae62-bf32482b132e"
      },
      "execution_count": null,
      "outputs": [
        {
          "output_type": "stream",
          "name": "stdout",
          "text": [
            "8 metadados: 7 continuos, 1 discretos\n",
            "Nome dos metadados: PROCURADOR, PROCESSO, COMPLEXIDADE, PAGINA, PRAZO, REVISOES, ENTREGA, VALOR(milR$)\n",
            "Registros: 1013\n",
            "[0.2, 0.2, 0.1]\n"
          ]
        }
      ]
    },
    {
      "cell_type": "code",
      "source": [
        "#inicializa população (indivíduos)\n",
        "populacao = []\n",
        "for i in range(POPULACAO):\n",
        "  cpx = complexidade[i]\n",
        "  pag = pagina[i]\n",
        "  prz = prazo[i]\n",
        "  rev = revisao[i]\n",
        "  ent = entrega[i]\n",
        "  val = valor[i]\n",
        "  posicao = 0\n",
        "  individuo = []\n",
        "  for j in range(DIMENSOES):\n",
        "    if (j==0):\n",
        "      posicao = cpx\n",
        "    elif (j==1):\n",
        "      posicao = pag\n",
        "    elif (j==2):\n",
        "      posicao = prz\n",
        "    elif (j==3):\n",
        "      posicao = rev\n",
        "    elif (j==4):\n",
        "      posicao = ent\n",
        "    elif (j==5):\n",
        "      posicao = val\n",
        "    else:\n",
        "      posicao = random.random()*(LIMITES[1]-LIMITES[0]) - LIMITES[1]\n",
        "    individuo.append(posicao)\n",
        "  populacao.append(individuo)\n",
        "  INDIVIDUOS = np.array(populacao)\n",
        "  aux = \"\"\n",
        "  for p in range(len(pesos)):\n",
        "    aux += str(pesos[p]) + \", \"\n",
        "  print(\"indivíduo:\",i,\"indivíduo:\",populacao[i],\"pesos:\",aux)"
      ],
      "metadata": {
        "colab": {
          "base_uri": "https://localhost:8080/"
        },
        "id": "m-RobAUXye-h",
        "outputId": "4cc1a28e-e238-4cef-d74a-0db5e028d7d0"
      },
      "execution_count": null,
      "outputs": [
        {
          "output_type": "stream",
          "name": "stdout",
          "text": [
            "indivíduo: 0 indivíduo: [Value('COMPLEXIDADE', 2), Value('PAGINA', 37), Value('PRAZO', 10)] pesos: 0.2, 0.2, 0.1, \n",
            "indivíduo: 1 indivíduo: [Value('COMPLEXIDADE', 2), Value('PAGINA', 2), Value('PRAZO', 5)] pesos: 0.2, 0.2, 0.1, \n",
            "indivíduo: 2 indivíduo: [Value('COMPLEXIDADE', 4), Value('PAGINA', 82), Value('PRAZO', 15)] pesos: 0.2, 0.2, 0.1, \n",
            "indivíduo: 3 indivíduo: [Value('COMPLEXIDADE', 2), Value('PAGINA', 17), Value('PRAZO', 10)] pesos: 0.2, 0.2, 0.1, \n",
            "indivíduo: 4 indivíduo: [Value('COMPLEXIDADE', 3), Value('PAGINA', 11), Value('PRAZO', 10)] pesos: 0.2, 0.2, 0.1, \n",
            "indivíduo: 5 indivíduo: [Value('COMPLEXIDADE', 2), Value('PAGINA', 48), Value('PRAZO', 10)] pesos: 0.2, 0.2, 0.1, \n",
            "indivíduo: 6 indivíduo: [Value('COMPLEXIDADE', 1), Value('PAGINA', 18), Value('PRAZO', 10)] pesos: 0.2, 0.2, 0.1, \n",
            "indivíduo: 7 indivíduo: [Value('COMPLEXIDADE', 1), Value('PAGINA', 3), Value('PRAZO', 5)] pesos: 0.2, 0.2, 0.1, \n",
            "indivíduo: 8 indivíduo: [Value('COMPLEXIDADE', 2), Value('PAGINA', 4), Value('PRAZO', 5)] pesos: 0.2, 0.2, 0.1, \n",
            "indivíduo: 9 indivíduo: [Value('COMPLEXIDADE', 1), Value('PAGINA', 7), Value('PRAZO', 5)] pesos: 0.2, 0.2, 0.1, \n"
          ]
        }
      ]
    },
    {
      "cell_type": "code",
      "source": [
        "#define a função de calculo\n",
        "def calcula(exibe):\n",
        "  problema = get_problem(FCUSTO)\n",
        "  pareto = problema.pareto_front()\n",
        "  algoritmo = NSGA2(\n",
        "    ref_points=INDIVIDUOS,\n",
        "    pop_size=POPULACAO,\n",
        "    eliminate_duplicates=True,\n",
        "    epsilon=0.01,\n",
        "    normalization='front',\n",
        "    extreme_points_as_reference_points=False,\n",
        "    weights=np.array(pesos))\n",
        "  resultado = minimize(problema, #objeto Problema que contém o problema a ser resolvido\n",
        "    algoritmo, #objetivo de algoritmo que representa o algoritmo a ser usado\n",
        "    save_history=True, #um valor booleano que representa se um instantâneo do algoritmo deve ser armazenado em cada iteração\n",
        "    termination=('n_gen',ITERACOES), #um objeto que define quando o algoritmo termina\n",
        "    seed=SEMENTE, #semente com valor inteiro positivo garante resultados reproduzíveis \n",
        "    pf=pareto, #define o ploblema de pareto\n",
        "    disp=True, #você pode substituir qual saída deve ser impressa em cada iteração\n",
        "    verbose=exibe) #valor booleano que define se a saída deve ser impressa durante a execução ou não\n",
        "  return (pareto,resultado)"
      ],
      "metadata": {
        "id": "YZfH-Bl_Pdfv"
      },
      "execution_count": null,
      "outputs": []
    },
    {
      "cell_type": "code",
      "source": [
        "#calcula a otimização\n",
        "c1dtlz = ['c1dtlz1', 'c1dtlz3', 'c2dtlz2', 'c3dtlz1', 'c3dtlz4']\n",
        "convex = ['convex_dtlz2', 'convex_dtlz4']\n",
        "ctp = ['ctp1', 'ctp2', 'ctp3', 'ctp4', 'ctp5', 'ctp6', 'ctp7', 'ctp8']\n",
        "dascmop = ['dascmop1', 'dascmop2', 'dascmop3', 'dascmop4', 'dascmop5', 'dascmop6', 'dascmop7', 'dascmop8', 'dascmop9'] #conjunto de testes multiobjetivo restrito com restrições ajustáveis\n",
        "dc1dtlz = ['dc1dtlz1', 'dc1dtlz3', 'dc2dtlz1', 'dc2dtlz3', 'dc3dtlz1', 'dc3dtlz3'] #para problemas de convergência em hiperplano de Pareto-ótimo\n",
        "dtlz = ['dtlz1^-1', 'dtlz1', 'dtlz2', 'dtlz3', 'dtlz4', 'dtlz5', 'dtlz6', 'dtlz7']\n",
        "g = ['g01', 'g02', 'g03', 'g04', 'g05', 'g06', 'g07', 'g08', 'g09', 'g10']\n",
        "mw = ['mw1', 'mw2', 'mw3', 'mw4', 'mw5', 'mw6', 'mw7', 'mw8', 'mw9', 'mw10', 'mw11', 'mw12', 'mw13', 'mw14'] #conjunto multi-objetivo restrito construído para problemas com até 4 restrições de desigualdade\n",
        "wfg = ['wfg1', 'wfg2', 'wfg3', 'wfg4', 'wfg5', 'wfg6', 'wfg7', 'wfg8', 'wfg9']\n",
        "zdt = ['zdt1', 'zdt2', 'zdt3', 'zdt4', 'zdt5', 'zdt6'] #dois objetivos devem ser minimizados\n",
        "outros = ['rosenbrock', 'schwefel', 'sphere', 'srn', 'tnk', 'truss2d', 'welded_beam', 'zakharov','ackley', 'bnh', 'carside','modact','sdtlz1','cantilevered_beam', 'griewank', 'himmelblau', 'knp', 'kursawe', 'osy', 'pressure_vessel', 'rastrigin']\n",
        "FCUSTO=dtlz[1]\n",
        "pareto,resultado=calcula(True)"
      ],
      "metadata": {
        "id": "QziYqrUEsiq9",
        "colab": {
          "base_uri": "https://localhost:8080/"
        },
        "outputId": "588d2b4e-7c29-4670-9c1d-6cb1391a7e3f"
      },
      "execution_count": null,
      "outputs": [
        {
          "output_type": "stream",
          "name": "stdout",
          "text": [
            "=============================================\n",
            "n_gen |  n_eval |     igd      |      gd     \n",
            "=============================================\n",
            "    1 |      10 |  5.94504E+01 |  2.94439E+02\n",
            "    2 |      20 |  5.94504E+01 |  3.10747E+02\n",
            "    3 |      30 |  5.94504E+01 |  3.04733E+02\n",
            "    4 |      40 |  5.94504E+01 |  2.21248E+02\n",
            "    5 |      50 |  5.94504E+01 |  2.14018E+02\n",
            "    6 |      60 |  5.94504E+01 |  2.39304E+02\n",
            "    7 |      70 |  1.40955E+02 |  2.95672E+02\n",
            "    8 |      80 |  8.61645E+01 |  2.66164E+02\n",
            "    9 |      90 |  8.61645E+01 |  2.79505E+02\n",
            "   10 |     100 |  6.15885E+01 |  2.09097E+02\n",
            "   11 |     110 |  6.15885E+01 |  1.50069E+02\n",
            "   12 |     120 |  6.15885E+01 |  1.47792E+02\n",
            "   13 |     130 |  6.15885E+01 |  1.49986E+02\n",
            "   14 |     140 |  6.15885E+01 |  1.43938E+02\n",
            "   15 |     150 |  6.15885E+01 |  1.52542E+02\n",
            "   16 |     160 |  6.15885E+01 |  1.51558E+02\n",
            "   17 |     170 |  6.15885E+01 |  1.38245E+02\n",
            "   18 |     180 |  4.58168E+01 |  1.34301E+02\n",
            "   19 |     190 |  4.58168E+01 |  9.98971E+01\n",
            "   20 |     200 |  4.58168E+01 |  1.08805E+02\n",
            "   21 |     210 |  4.58168E+01 |  1.00196E+02\n",
            "   22 |     220 |  4.58168E+01 |  1.00134E+02\n",
            "   23 |     230 |  4.58168E+01 |  9.31129E+01\n",
            "   24 |     240 |  4.02511E+01 |  7.89560E+01\n",
            "   25 |     250 |  4.02511E+01 |  8.01719E+01\n",
            "   26 |     260 |  4.02511E+01 |  8.33988E+01\n",
            "   27 |     270 |  4.02511E+01 |  7.91262E+01\n",
            "   28 |     280 |  4.02511E+01 |  8.70828E+01\n",
            "   29 |     290 |  4.02511E+01 |  8.38662E+01\n",
            "   30 |     300 |  4.02511E+01 |  7.39285E+01\n",
            "   31 |     310 |  4.94656E+01 |  9.59279E+01\n",
            "   32 |     320 |  4.68454E+01 |  8.95113E+01\n",
            "   33 |     330 |  4.68279E+01 |  9.16398E+01\n",
            "   34 |     340 |  4.68279E+01 |  1.05917E+02\n",
            "   35 |     350 |  4.42753E+01 |  1.05649E+02\n",
            "   36 |     360 |  4.42753E+01 |  1.05468E+02\n",
            "   37 |     370 |  4.42753E+01 |  1.00076E+02\n",
            "   38 |     380 |  4.42753E+01 |  9.63388E+01\n",
            "   39 |     390 |  4.42753E+01 |  5.92467E+01\n",
            "   40 |     400 |  4.42753E+01 |  6.38492E+01\n",
            "   41 |     410 |  4.42753E+01 |  6.43826E+01\n",
            "   42 |     420 |  4.42753E+01 |  6.22790E+01\n",
            "   43 |     430 |  4.01357E+01 |  6.24587E+01\n",
            "   44 |     440 |  4.01357E+01 |  6.23910E+01\n",
            "   45 |     450 |  4.01357E+01 |  5.61811E+01\n",
            "   46 |     460 |  4.01357E+01 |  5.01894E+01\n",
            "   47 |     470 |  4.01357E+01 |  5.01519E+01\n",
            "   48 |     480 |  4.01357E+01 |  6.79384E+01\n",
            "   49 |     490 |  4.01357E+01 |  4.87341E+01\n",
            "   50 |     500 |  4.01357E+01 |  4.71753E+01\n",
            "   51 |     510 |  4.01357E+01 |  4.82122E+01\n",
            "   52 |     520 |  4.01357E+01 |  4.85407E+01\n",
            "   53 |     530 |  3.89100E+01 |  6.84731E+01\n",
            "   54 |     540 |  3.89100E+01 |  8.23904E+01\n",
            "   55 |     550 |  3.89100E+01 |  5.35580E+01\n",
            "   56 |     560 |  3.89100E+01 |  5.28315E+01\n",
            "   57 |     570 |  3.89100E+01 |  5.25911E+01\n",
            "   58 |     580 |  3.89100E+01 |  5.13038E+01\n",
            "   59 |     590 |  3.89100E+01 |  5.05720E+01\n",
            "   60 |     600 |  3.89100E+01 |  4.83707E+01\n",
            "   61 |     610 |  3.54883E+01 |  4.62152E+01\n",
            "   62 |     620 |  3.54883E+01 |  4.66148E+01\n",
            "   63 |     630 |  3.12809E+01 |  4.45516E+01\n",
            "   64 |     640 |  3.12809E+01 |  4.33559E+01\n",
            "   65 |     650 |  3.12809E+01 |  4.32347E+01\n",
            "   66 |     660 |  3.12809E+01 |  4.19388E+01\n",
            "   67 |     670 |  3.12809E+01 |  4.22272E+01\n",
            "   68 |     680 |  3.06320E+01 |  4.09905E+01\n",
            "   69 |     690 |  3.06320E+01 |  5.40882E+01\n",
            "   70 |     700 |  3.06320E+01 |  5.38964E+01\n",
            "   71 |     710 |  3.06320E+01 |  4.80410E+01\n",
            "   72 |     720 |  3.06320E+01 |  5.16283E+01\n",
            "   73 |     730 |  3.06320E+01 |  4.75687E+01\n",
            "   74 |     740 |  2.88121E+01 |  4.63670E+01\n",
            "   75 |     750 |  2.88121E+01 |  5.32811E+01\n",
            "   76 |     760 |  2.88121E+01 |  5.88299E+01\n",
            "   77 |     770 |  2.88121E+01 |  5.95953E+01\n",
            "   78 |     780 |  2.88121E+01 |  4.43673E+01\n",
            "   79 |     790 |  2.88121E+01 |  7.92236E+01\n",
            "   80 |     800 |  2.88121E+01 |  7.84743E+01\n",
            "   81 |     810 |  2.88121E+01 |  4.26515E+01\n",
            "   82 |     820 |  2.88121E+01 |  4.26044E+01\n",
            "   83 |     830 |  2.87707E+01 |  4.29440E+01\n",
            "   84 |     840 |  2.87707E+01 |  4.20314E+01\n",
            "   85 |     850 |  2.87707E+01 |  4.22028E+01\n",
            "   86 |     860 |  2.87707E+01 |  4.14105E+01\n",
            "   87 |     870 |  2.84722E+01 |  4.13680E+01\n",
            "   88 |     880 |  2.84722E+01 |  4.11926E+01\n",
            "   89 |     890 |  2.84722E+01 |  4.15423E+01\n",
            "   90 |     900 |  2.84722E+01 |  6.38743E+01\n",
            "   91 |     910 |  2.84722E+01 |  6.35472E+01\n",
            "   92 |     920 |  2.84722E+01 |  8.38428E+01\n",
            "   93 |     930 |  2.84722E+01 |  8.06785E+01\n",
            "   94 |     940 |  2.84722E+01 |  6.23336E+01\n",
            "   95 |     950 |  2.84722E+01 |  1.00804E+02\n",
            "   96 |     960 |  3.57590E+01 |  1.20422E+02\n",
            "   97 |     970 |  4.27507E+01 |  1.17933E+02\n",
            "   98 |     980 |  4.27507E+01 |  1.02407E+02\n",
            "   99 |     990 |  4.21777E+01 |  5.72970E+01\n",
            "  100 |    1000 |  4.21777E+01 |  5.47004E+01\n",
            "  101 |    1010 |  4.21777E+01 |  5.39963E+01\n",
            "  102 |    1020 |  4.21777E+01 |  5.25619E+01\n",
            "  103 |    1030 |  4.21777E+01 |  8.33030E+01\n",
            "  104 |    1040 |  4.04141E+01 |  8.30931E+01\n",
            "  105 |    1050 |  4.04141E+01 |  1.20892E+02\n",
            "  106 |    1060 |  4.04141E+01 |  1.34664E+02\n",
            "  107 |    1070 |  4.04141E+01 |  1.35473E+02\n",
            "  108 |    1080 |  4.04141E+01 |  1.44847E+02\n",
            "  109 |    1090 |  4.04141E+01 |  1.66929E+02\n",
            "  110 |    1100 |  4.04141E+01 |  1.70290E+02\n",
            "  111 |    1110 |  4.04141E+01 |  1.66480E+02\n",
            "  112 |    1120 |  4.04141E+01 |  1.65502E+02\n",
            "  113 |    1130 |  4.04141E+01 |  1.75385E+02\n",
            "  114 |    1140 |  3.64128E+01 |  1.13063E+02\n",
            "  115 |    1150 |  3.64128E+01 |  1.34795E+02\n",
            "  116 |    1160 |  3.63734E+01 |  1.16993E+02\n",
            "  117 |    1170 |  3.15503E+01 |  1.24117E+02\n",
            "  118 |    1180 |  3.15503E+01 |  1.32863E+02\n",
            "  119 |    1190 |  4.15992E+01 |  1.48240E+02\n",
            "  120 |    1200 |  4.15992E+01 |  1.52079E+02\n",
            "  121 |    1210 |  4.15992E+01 |  1.53643E+02\n",
            "  122 |    1220 |  3.66706E+01 |  1.27933E+02\n",
            "  123 |    1230 |  3.66706E+01 |  1.42796E+02\n",
            "  124 |    1240 |  4.15618E+01 |  1.52997E+02\n",
            "  125 |    1250 |  3.22999E+01 |  1.42359E+02\n",
            "  126 |    1260 |  3.22999E+01 |  1.42137E+02\n",
            "  127 |    1270 |  3.22999E+01 |  1.41061E+02\n",
            "  128 |    1280 |  3.22999E+01 |  1.64363E+02\n",
            "  129 |    1290 |  3.22999E+01 |  1.63629E+02\n",
            "  130 |    1300 |  3.22999E+01 |  1.55523E+02\n",
            "  131 |    1310 |  4.04158E+01 |  1.79577E+02\n",
            "  132 |    1320 |  3.39032E+01 |  1.78756E+02\n",
            "  133 |    1330 |  3.10256E+01 |  1.64635E+02\n",
            "  134 |    1340 |  3.10256E+01 |  1.53416E+02\n",
            "  135 |    1350 |  3.10256E+01 |  1.40811E+02\n",
            "  136 |    1360 |  3.01597E+01 |  1.03023E+02\n",
            "  137 |    1370 |  2.94784E+01 |  6.16023E+01\n",
            "  138 |    1380 |  2.94470E+01 |  5.73587E+01\n",
            "  139 |    1390 |  2.94491E+01 |  5.79758E+01\n",
            "  140 |    1400 |  2.68103E+01 |  4.44811E+01\n",
            "  141 |    1410 |  2.60598E+01 |  4.26136E+01\n",
            "  142 |    1420 |  2.60604E+01 |  4.78676E+01\n",
            "  143 |    1430 |  2.60604E+01 |  4.81361E+01\n",
            "  144 |    1440 |  2.60604E+01 |  4.85450E+01\n",
            "  145 |    1450 |  2.68103E+01 |  6.27936E+01\n",
            "  146 |    1460 |  2.68103E+01 |  8.16231E+01\n",
            "  147 |    1470 |  2.68103E+01 |  9.07207E+01\n",
            "  148 |    1480 |  2.68103E+01 |  9.05183E+01\n",
            "  149 |    1490 |  2.68103E+01 |  9.05183E+01\n",
            "  150 |    1500 |  2.68103E+01 |  9.32528E+01\n",
            "  151 |    1510 |  2.68103E+01 |  9.99568E+01\n",
            "  152 |    1520 |  2.68103E+01 |  9.68240E+01\n",
            "  153 |    1530 |  2.90159E+01 |  9.72907E+01\n",
            "  154 |    1540 |  2.90159E+01 |  1.21193E+02\n",
            "  155 |    1550 |  2.90159E+01 |  1.12004E+02\n",
            "  156 |    1560 |  2.90159E+01 |  1.22603E+02\n",
            "  157 |    1570 |  2.90159E+01 |  1.45528E+02\n",
            "  158 |    1580 |  2.90159E+01 |  1.40691E+02\n",
            "  159 |    1590 |  2.90159E+01 |  1.58759E+02\n",
            "  160 |    1600 |  2.90159E+01 |  1.29946E+02\n",
            "  161 |    1610 |  2.90159E+01 |  1.19326E+02\n",
            "  162 |    1620 |  2.90159E+01 |  1.18560E+02\n",
            "  163 |    1630 |  2.90159E+01 |  1.14172E+02\n",
            "  164 |    1640 |  2.90159E+01 |  8.56439E+01\n",
            "  165 |    1650 |  2.90159E+01 |  4.85043E+01\n",
            "  166 |    1660 |  2.28313E+01 |  4.65052E+01\n",
            "  167 |    1670 |  2.28313E+01 |  6.98660E+01\n",
            "  168 |    1680 |  2.28313E+01 |  6.67541E+01\n",
            "  169 |    1690 |  2.28313E+01 |  4.92909E+01\n",
            "  170 |    1700 |  2.28313E+01 |  4.92909E+01\n",
            "  171 |    1710 |  2.28313E+01 |  5.24221E+01\n",
            "  172 |    1720 |  2.28313E+01 |  5.19067E+01\n",
            "  173 |    1730 |  2.28313E+01 |  5.19051E+01\n",
            "  174 |    1740 |  2.28313E+01 |  5.87584E+01\n",
            "  175 |    1750 |  2.28313E+01 |  6.43076E+01\n",
            "  176 |    1760 |  2.28313E+01 |  6.40010E+01\n",
            "  177 |    1770 |  2.28313E+01 |  5.79005E+01\n",
            "  178 |    1780 |  2.28313E+01 |  5.68496E+01\n",
            "  179 |    1790 |  2.28313E+01 |  5.35615E+01\n",
            "  180 |    1800 |  1.48451E+01 |  4.18494E+01\n",
            "  181 |    1810 |  1.48021E+01 |  4.63584E+01\n",
            "  182 |    1820 |  1.48451E+01 |  5.29966E+01\n",
            "  183 |    1830 |  1.48451E+01 |  5.29966E+01\n",
            "  184 |    1840 |  1.48451E+01 |  5.29507E+01\n",
            "  185 |    1850 |  1.48451E+01 |  5.48961E+01\n",
            "  186 |    1860 |  1.48451E+01 |  4.94806E+01\n",
            "  187 |    1870 |  1.48451E+01 |  4.79245E+01\n",
            "  188 |    1880 |  1.48451E+01 |  4.66756E+01\n",
            "  189 |    1890 |  1.48451E+01 |  4.65440E+01\n",
            "  190 |    1900 |  1.48451E+01 |  4.42842E+01\n",
            "  191 |    1910 |  1.48451E+01 |  4.36714E+01\n",
            "  192 |    1920 |  1.48451E+01 |  4.28244E+01\n",
            "  193 |    1930 |  1.48451E+01 |  4.25392E+01\n",
            "  194 |    1940 |  1.48451E+01 |  4.25392E+01\n",
            "  195 |    1950 |  1.48451E+01 |  4.57842E+01\n",
            "  196 |    1960 |  1.48451E+01 |  4.25997E+01\n",
            "  197 |    1970 |  1.48451E+01 |  4.12930E+01\n",
            "  198 |    1980 |  1.48451E+01 |  4.12925E+01\n",
            "  199 |    1990 |  1.48451E+01 |  3.90638E+01\n",
            "  200 |    2000 |  1.48451E+01 |  4.08894E+01\n"
          ]
        }
      ]
    },
    {
      "cell_type": "code",
      "source": [
        "#plota o resultado dos valores de espaços objetivos (resultado.F)\n",
        "approx_ideal = resultado.F.min(axis=0)\n",
        "approx_nadir = resultado.F.max(axis=0)\n",
        "solucao = []\n",
        "for i in range(len(OBJETIVOS)):\n",
        "  try:\n",
        "    pnt = int(str(approx_ideal[i])[0:1])\n",
        "  except:\n",
        "    pnt = 1\n",
        "  if (len(OBJETIVOS)>2):\n",
        "    if (i>0):\n",
        "      pnt = pnt + POPULACAO * (i*len(OBJETIVOS))\n",
        "  solucao.append(pnt)\n",
        "rotulo = []\n",
        "cores = [\"red\",\"blue\",\"black\",\"green\",\"pink\",\"brown\"]\n",
        "DIRECAO = get_reference_directions(\"uniform\", len(OBJETIVOS), n_partitions=POPULACAO)\n",
        "F = get_problem(FCUSTO).pareto_front(DIRECAO)\n",
        "SC = StarCoordinate(title=\"Otimização Multiobjetivo\", \n",
        "  legend=(True, {'loc': \"upper left\", 'bbox_to_anchor': (-0.1, 1.08, 0, 0)}),\n",
        "  labels=OBJETIVOS,\n",
        "  axis_style={\"color\": \"blue\", 'alpha': 0.7},\n",
        "  arrow_style={\"head_length\": 0.015, \"head_width\": 0.03})\n",
        "SC.add(F, color=\"grey\", s=20)\n",
        "j = len(OBJETIVOS)-1\n",
        "for i in range(len(OBJETIVOS)):\n",
        "  SC.add(F[solucao[i]], color=cores[i], s=60, label=OBJETIVOS[j-i])\n",
        "SC.show()"
      ],
      "metadata": {
        "colab": {
          "base_uri": "https://localhost:8080/",
          "height": 395
        },
        "id": "tAvERsmYvprm",
        "outputId": "78fd2f9c-128b-45a9-a986-87c898d93b7e"
      },
      "execution_count": null,
      "outputs": [
        {
          "output_type": "execute_result",
          "data": {
            "text/plain": [
              "<pymoo.visualization.star_coordinate.StarCoordinate at 0x7f1d84ae8fd0>"
            ]
          },
          "metadata": {},
          "execution_count": 34
        },
        {
          "output_type": "display_data",
          "data": {
            "text/plain": [
              "<Figure size 576x432 with 1 Axes>"
            ],
            "image/png": "[encoded data removed]"
          },
          "metadata": {}
        }
      ]
    },
    {
      "cell_type": "code",
      "source": [
        "#exibe curva de convergência dos indivíduos\n",
        "retorno = [np.min(e.pop.get(\"F\")) for e in resultado.history] #cria conjunto de dados\n",
        "plt.figure(figsize=(6,4), dpi=80) #cria figura com tamanho de 8x6 pontos com 80 pontos por polegada\n",
        "plt.subplot(1, 1, 1) #cria nova subplotagem a partir de um grid de 1x1\n",
        "plt.title(\"Curva de Convergência do NSGA2\")\n",
        "plt.xlabel(\"Iterações\")\n",
        "plt.ylabel(\"Melhor Posições (F)\")\n",
        "plt.plot(np.arange(len(retorno)), retorno) #plota x e y\n",
        "plt.show()"
      ],
      "metadata": {
        "colab": {
          "base_uri": "https://localhost:8080/",
          "height": 324
        },
        "id": "ALTs01EBtJHq",
        "outputId": "3c9ef8b8-094c-45c6-9093-5f943c85eec6"
      },
      "execution_count": null,
      "outputs": [
        {
          "output_type": "display_data",
          "data": {
            "text/plain": [
              "<Figure size 480x320 with 1 Axes>"
            ],
            "image/png": "[encoded data removed]"
          },
          "metadata": {
            "needs_background": "light"
          }
        }
      ]
    },
    {
      "cell_type": "code",
      "source": [
        "#exibe os resultados\n",
        "print(\"n_gen=número de iterações (gerações) | n_eval=número de avaliações | igd=desempenho distância geracional invertida | gd=desempenho da distância geracional | hv=hypervolume\")\n",
        "#resultados F\n",
        "for i in range(POPULACAO):\n",
        "  print(\"i:\",i,\"espaços objetivos:\",resultado.F[i])\n",
        "#resultados pop\n",
        "popfim = resultado.pop\n",
        "popfimF = popfim.get(\"F\")\n",
        "popfimX = popfim.get(\"X\")\n",
        "for i in range(POPULACAO):\n",
        "  print(\"i:\",i,\"população final F=espeço objetivo:\",popfimF[i])\n",
        "for i in range(POPULACAO):\n",
        "  print(\"i:\",i,\"população final X=espeço de busca:\",popfimX[i])\n",
        "#resultados X\n",
        "for i in range(POPULACAO):\n",
        "  print(\"i:\",i,\"espaço de design:\",resultado.X[i])\n",
        "#resultados G\n",
        "for i in range(POPULACAO):\n",
        "  print(\"i:\",i,\"valores de restrição:\",resultado.G[i])\n",
        "#resultados CV\n",
        "for i in range(POPULACAO):\n",
        "  print(\"i:\",i,\"violação de restrição agregada:\",resultado.CV[i])\n",
        "#resultados opt\n",
        "sol = resultado.opt\n",
        "solF = sol.get(\"F\")\n",
        "solX = sol.get(\"X\")\n",
        "for i in range(POPULACAO):\n",
        "  print(\"i:\",i,\"soluções:\",solF[i])\n",
        "#resultados history\n",
        "his = resultado.history\n",
        "for i in range(ITERACOES):\n",
        "  ele = his[i]\n",
        "  print(\"i:\",i,\"elemento:\",ele)"
      ],
      "metadata": {
        "id": "x31Y3ZlbqU1q"
      },
      "execution_count": null,
      "outputs": []
    }
  ]
}