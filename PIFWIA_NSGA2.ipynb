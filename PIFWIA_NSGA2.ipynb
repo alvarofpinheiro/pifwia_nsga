{
  "nbformat": 4,
  "nbformat_minor": 0,
  "metadata": {
    "colab": {
      "name": "PIFWIA_NSGA2.ipynb",
      "provenance": [],
      "collapsed_sections": [],
      "include_colab_link": true
    },
    "kernelspec": {
      "name": "python3",
      "display_name": "Python 3"
    }
  },
  "cells": [
    {
      "cell_type": "markdown",
      "metadata": {
        "id": "view-in-github",
        "colab_type": "text"
      },
      "source": [
        "<a href=\"https://colab.research.google.com/github/alvarofpinheiro/pifwia_nsga2/blob/main/PIFWIA_NSGA2.ipynb\" target=\"_parent\"><img src=\"https://colab.research.google.com/assets/colab-badge.svg\" alt=\"Open In Colab\"/></a>"
      ]
    },
    {
      "cell_type": "markdown",
      "source": [
        "NSGA2 - Non-dominated Sorting Genetic Algorithm ou Algoritmo Genético de Classificação Não Dominado é uma metaheurística para otimização multiobjetivo que pode ser denominada de \"programação multiobjetivo\" ou \"otimização vetorial\" ou \"otimização multicritério\" ou \"otimização multiatributo\" ou \"otimização de Pareto\", sendo uma área de tomada de decisão com múltiplos objetivos a serem otimizados simultaneamente de dois ou mais objetivos conflitantes.\n",
        "\n",
        "Deb, K.; Pratap, A.; Agarwal, S.; Meyarivan, T. A fast and elitist multiobjective genetic algorithm: NSGA-II. IEEE Transactions on Evolutionary Computation (Volume: 6, Issue: 2). https://doi.org/10.1109/4235.996017, 2002.\n",
        "\n",
        "pymoo: Multi-objective Optimization in Python https://pymoo.org/"
      ],
      "metadata": {
        "id": "Ji1oTtz8mE9L"
      }
    },
    {
      "cell_type": "code",
      "source": [
        "#instala biblioteca Orange Canvas e pymoo (otimização multiobjetivo)\n",
        "!pip install Orange3\n",
        "!pip install pymoo"
      ],
      "metadata": {
        "id": "AZL3imHRqNv4"
      },
      "execution_count": null,
      "outputs": []
    },
    {
      "cell_type": "code",
      "metadata": {
        "id": "kSF-_chACklb"
      },
      "source": [
        "#importa bibliotecas\n",
        "import Orange\n",
        "import random\n",
        "import math\n",
        "import numpy as np\n",
        "from tqdm import tqdm\n",
        "import matplotlib.pyplot as plt\n",
        "from numpy.random import choice\n",
        "from pymoo.algorithms.moo.nsga2 import NSGA2\n",
        "from pymoo.factory import get_problem, get_reference_directions, get_visualization\n",
        "from pymoo.visualization.star_coordinate import StarCoordinate\n",
        "from pymoo.util.plotting import plot\n",
        "from pymoo.optimize import minimize\n",
        "from pymoo.visualization.scatter import Scatter\n",
        "from tqdm import tqdm"
      ],
      "execution_count": null,
      "outputs": []
    },
    {
      "cell_type": "code",
      "source": [
        "#define os hiperparâmetros\n",
        "OBJETIVOS = [\"Eficiência\",\"Eficácia\"] #quantidade de objetivos distintos a serem resolvidos\n",
        "DIMENSOES = 2 #determina a quantidade de dimensões do problema\n",
        "ITERACOES = 200 #quantiddade máxima de ciclos (episódios) especificando quantas explorações podem ser realizadas\n",
        "POPULACAO = 10 #tamanho da população correspondente ao indivíduo\n",
        "E1 = -100 #extremo esquerdo eixo x\n",
        "E2 = 100 #extremo direito eixo x\n",
        "E3 = -100 #extremo inferior eixo y\n",
        "E4 = 100 #extremo superior eixo y\n",
        "LIMITES = [E1, E4] #(bound) determina os valores mínimos e máximos do espaço de busca\n",
        "SEMENTE=1 #valor de inicialização\n",
        "INDIVIDUOS = [] #(swarm) array da criação dos indivíduos da população"
      ],
      "metadata": {
        "id": "eq1IiXrNqYjP"
      },
      "execution_count": null,
      "outputs": []
    },
    {
      "cell_type": "code",
      "source": [
        "#importa dados\n",
        "from google.colab import files  \n",
        "files.upload()"
      ],
      "metadata": {
        "id": "ZqKsxZlZq5_3"
      },
      "execution_count": null,
      "outputs": []
    },
    {
      "cell_type": "code",
      "source": [
        "#instancia objeto de dados com base no caminho gerado na importação do arquivo\n",
        "dados = Orange.data.Table(\"/content/dados.csv\")\n",
        "#explora os metadados e dados da arquivo importado\n",
        "qtde_campos = len(dados.domain.attributes)\n",
        "qtde_cont = sum(1 for a in dados.domain.attributes if a.is_continuous)\n",
        "qtde_disc = sum(1 for a in dados.domain.attributes if a.is_discrete)\n",
        "print(\"%d metadados: %d continuos, %d discretos\" % (qtde_campos, qtde_cont, qtde_disc))\n",
        "print(\"Nome dos metadados:\", \", \".join(dados.domain.attributes[i].name for i in range(qtde_campos)),)\n",
        "dados.domain.attributes #explora os domínios dos atributos (campos da base de dados)\n",
        "print(\"Registros:\", len(dados)) #explora os dados (quantidade de registros da base de dados)\n",
        "i = 0 #exibe os primeiros registros para análise dos dados importados\n",
        "for d in dados[:20]:\n",
        "  i += 1\n",
        "  #print(i, d)\n",
        "#cria arrays das dimensões do problema a ser otimizado\n",
        "procurador = []\n",
        "processo = []\n",
        "complexidade = [] #1-muito baixa complexidade;2-baixa complexidade;3-média complexidade;4-alta complexidade;e,5-muito alta complexidade\n",
        "pagina = []\n",
        "prazo = []\n",
        "revisao = []\n",
        "entrega = []\n",
        "valor = []\n",
        "i = 0\n",
        "for d in dados[:POPULACAO]:\n",
        "  procurador.append(d[0])\n",
        "  processo.append(d[1])\n",
        "  complexidade.append(d[2])\n",
        "  pagina.append(d[3])\n",
        "  prazo.append(d[4])\n",
        "  revisao.append(d[5])\n",
        "  entrega.append(d[6])\n",
        "  valor.append(d[7])\n",
        "  #print(\"id:\",i,\"procurador:\",procurador[i],\"processo:\",processo[i],\"complexidade:\",complexidade[i],\"página:\",pagina[i],\"prazo:\",prazo[i],\"revisões:\",revisao[i],\"entrega:\",entrega[i],\"valor:\",valor[i])\n",
        "  i += 1\n",
        "#definição dos pesos da função objetivo\n",
        "PESOS = [0.2,0.2,0.1,0.1,0.1,0.3] #f(x) = (0.2α + 0.2β + 0.1γ + 0.1δ + 0.1ε + 0.3θ) / 0.10\n",
        "pesos = []\n",
        "for i in range(DIMENSOES):\n",
        "  pesos.append(PESOS[i])\n",
        "print(pesos)"
      ],
      "metadata": {
        "id": "u1UUjLTBq8V-",
        "colab": {
          "base_uri": "https://localhost:8080/"
        },
        "outputId": "3f2ffd04-d983-4bf3-9287-2379e2d87bfe"
      },
      "execution_count": null,
      "outputs": [
        {
          "output_type": "stream",
          "name": "stdout",
          "text": [
            "8 metadados: 7 continuos, 1 discretos\n",
            "Nome dos metadados: PROCURADOR, PROCESSO, COMPLEXIDADE, PAGINA, PRAZO, REVISOES, ENTREGA, VALOR(milR$)\n",
            "Registros: 1013\n",
            "[0.2, 0.2]\n"
          ]
        },
        {
          "output_type": "stream",
          "name": "stderr",
          "text": [
            "/usr/local/lib/python3.7/dist-packages/psycopg2/__init__.py:144: UserWarning: The psycopg2 wheel package will be renamed from release 2.8; in order to keep installing from binary please use \"pip install psycopg2-binary\" instead. For details see: <http://initd.org/psycopg/docs/install.html#binary-install-from-pypi>.\n",
            "  \"\"\")\n"
          ]
        }
      ]
    },
    {
      "cell_type": "code",
      "source": [
        "#inicializa população (indivíduos)\n",
        "populacao = []\n",
        "for i in range(POPULACAO):\n",
        "  cpx = complexidade[i]\n",
        "  pag = pagina[i]\n",
        "  prz = prazo[i]\n",
        "  rev = revisao[i]\n",
        "  ent = entrega[i]\n",
        "  val = valor[i]\n",
        "  posicao = 0\n",
        "  individuo = []\n",
        "  for j in range(DIMENSOES):\n",
        "    if (j==0):\n",
        "      posicao = cpx\n",
        "    elif (j==1):\n",
        "      posicao = pag\n",
        "    elif (j==2):\n",
        "      posicao = prz\n",
        "    elif (j==3):\n",
        "      posicao = rev\n",
        "    elif (j==4):\n",
        "      posicao = ent\n",
        "    elif (j==5):\n",
        "      posicao = val\n",
        "    else:\n",
        "      posicao = random.random()*(LIMITES[1]-LIMITES[0]) - LIMITES[1]\n",
        "    individuo.append(posicao)\n",
        "  populacao.append(individuo)\n",
        "  INDIVIDUOS = np.array(populacao)\n",
        "  aux = \"\"\n",
        "  for p in range(len(pesos)):\n",
        "    aux += str(pesos[p]) + \", \"\n",
        "  print(\"indivíduo:\",i,\"indivíduo:\",populacao[i],\"pesos:\",aux)"
      ],
      "metadata": {
        "colab": {
          "base_uri": "https://localhost:8080/"
        },
        "id": "m-RobAUXye-h",
        "outputId": "51ae2d28-58b3-4c3f-d5be-d79284a83831"
      },
      "execution_count": null,
      "outputs": [
        {
          "output_type": "stream",
          "name": "stdout",
          "text": [
            "indivíduo: 0 indivíduo: [Value('COMPLEXIDADE', 2), Value('PAGINA', 37)] pesos: 0.2, 0.2, \n",
            "indivíduo: 1 indivíduo: [Value('COMPLEXIDADE', 2), Value('PAGINA', 2)] pesos: 0.2, 0.2, \n",
            "indivíduo: 2 indivíduo: [Value('COMPLEXIDADE', 4), Value('PAGINA', 82)] pesos: 0.2, 0.2, \n",
            "indivíduo: 3 indivíduo: [Value('COMPLEXIDADE', 2), Value('PAGINA', 17)] pesos: 0.2, 0.2, \n",
            "indivíduo: 4 indivíduo: [Value('COMPLEXIDADE', 3), Value('PAGINA', 11)] pesos: 0.2, 0.2, \n",
            "indivíduo: 5 indivíduo: [Value('COMPLEXIDADE', 2), Value('PAGINA', 48)] pesos: 0.2, 0.2, \n",
            "indivíduo: 6 indivíduo: [Value('COMPLEXIDADE', 1), Value('PAGINA', 18)] pesos: 0.2, 0.2, \n",
            "indivíduo: 7 indivíduo: [Value('COMPLEXIDADE', 1), Value('PAGINA', 3)] pesos: 0.2, 0.2, \n",
            "indivíduo: 8 indivíduo: [Value('COMPLEXIDADE', 2), Value('PAGINA', 4)] pesos: 0.2, 0.2, \n",
            "indivíduo: 9 indivíduo: [Value('COMPLEXIDADE', 1), Value('PAGINA', 7)] pesos: 0.2, 0.2, \n"
          ]
        }
      ]
    },
    {
      "cell_type": "code",
      "source": [
        "#define a função de calculo\n",
        "def calcula(exibe):\n",
        "  problema = get_problem(FCUSTO)\n",
        "  pareto = problema.pareto_front()\n",
        "  algoritmo = NSGA2(\n",
        "    ref_points=INDIVIDUOS,\n",
        "    pop_size=POPULACAO,\n",
        "    eliminate_duplicates=True,\n",
        "    epsilon=0.01,\n",
        "    normalization='front',\n",
        "    extreme_points_as_reference_points=False,\n",
        "    weights=np.array(pesos))\n",
        "  resultado = minimize(problema, #objeto Problema que contém o problema a ser resolvido\n",
        "    algoritmo, #objetivo de algoritmo que representa o algoritmo a ser usado\n",
        "    save_history=True, #um valor booleano que representa se um instantâneo do algoritmo deve ser armazenado em cada iteração\n",
        "    termination=('n_gen',ITERACOES), #um objeto que define quando o algoritmo termina\n",
        "    seed=SEMENTE, #semente com valor inteiro positivo garante resultados reproduzíveis \n",
        "    pf=pareto, #define o ploblema de pareto\n",
        "    disp=True, #você pode substituir qual saída deve ser impressa em cada iteração\n",
        "    verbose=exibe) #valor booleano que define se a saída deve ser impressa durante a execução ou não\n",
        "  return (pareto,resultado)"
      ],
      "metadata": {
        "id": "YZfH-Bl_Pdfv"
      },
      "execution_count": null,
      "outputs": []
    },
    {
      "cell_type": "code",
      "source": [
        "#calcula a otimização\n",
        "c1dtlz = ['c1dtlz1', 'c1dtlz3', 'c2dtlz2', 'c3dtlz1', 'c3dtlz4']\n",
        "convex = ['convex_dtlz2', 'convex_dtlz4']\n",
        "ctp = ['ctp1', 'ctp2', 'ctp3', 'ctp4', 'ctp5', 'ctp6', 'ctp7', 'ctp8']\n",
        "dascmop = ['dascmop1', 'dascmop2', 'dascmop3', 'dascmop4', 'dascmop5', 'dascmop6', 'dascmop7', 'dascmop8', 'dascmop9'] #conjunto de testes multiobjetivo restrito com restrições ajustáveis\n",
        "dc1dtlz = ['dc1dtlz1', 'dc1dtlz3', 'dc2dtlz1', 'dc2dtlz3', 'dc3dtlz1', 'dc3dtlz3'] #para problemas de convergência em hiperplano de Pareto-ótimo\n",
        "dtlz = ['dtlz1^-1', 'dtlz1', 'dtlz2', 'dtlz3', 'dtlz4', 'dtlz5', 'dtlz6', 'dtlz7']\n",
        "g = ['g01', 'g02', 'g03', 'g04', 'g05', 'g06', 'g07', 'g08', 'g09', 'g10']\n",
        "mw = ['mw1', 'mw2', 'mw3', 'mw4', 'mw5', 'mw6', 'mw7', 'mw8', 'mw9', 'mw10', 'mw11', 'mw12', 'mw13', 'mw14'] #conjunto multi-objetivo restrito construído para problemas com até 4 restrições de desigualdade\n",
        "wfg = ['wfg1', 'wfg2', 'wfg3', 'wfg4', 'wfg5', 'wfg6', 'wfg7', 'wfg8', 'wfg9']\n",
        "zdt = ['zdt1', 'zdt2', 'zdt3', 'zdt4', 'zdt5', 'zdt6'] #dois objetivos devem ser minimizados\n",
        "outros = ['rosenbrock', 'schwefel', 'sphere', 'srn', 'tnk', 'truss2d', 'welded_beam', 'zakharov','ackley', 'bnh', 'carside','modact','sdtlz1','cantilevered_beam', 'griewank', 'himmelblau', 'knp', 'kursawe', 'osy', 'pressure_vessel', 'rastrigin']\n",
        "FCUSTO=dtlz[1]\n",
        "pareto,resultado=calcula(True)"
      ],
      "metadata": {
        "id": "QziYqrUEsiq9",
        "colab": {
          "base_uri": "https://localhost:8080/"
        },
        "outputId": "312af5fd-fab7-4e66-dd2c-e4c7c8499369"
      },
      "execution_count": null,
      "outputs": [
        {
          "output_type": "stream",
          "name": "stdout",
          "text": [
            "=============================================\n",
            "n_gen |  n_eval |     igd      |      gd     \n",
            "=============================================\n",
            "    1 |      10 |  5.94504E+01 |  2.94439E+02\n",
            "    2 |      20 |  5.94504E+01 |  3.10747E+02\n",
            "    3 |      30 |  5.94504E+01 |  3.04733E+02\n",
            "    4 |      40 |  5.94504E+01 |  2.21248E+02\n",
            "    5 |      50 |  5.94504E+01 |  2.14018E+02\n",
            "    6 |      60 |  5.94504E+01 |  2.39304E+02\n",
            "    7 |      70 |  1.40955E+02 |  2.95672E+02\n",
            "    8 |      80 |  8.61645E+01 |  2.66164E+02\n",
            "    9 |      90 |  8.61645E+01 |  2.79505E+02\n",
            "   10 |     100 |  6.15885E+01 |  2.09097E+02\n",
            "   11 |     110 |  6.15885E+01 |  1.50069E+02\n",
            "   12 |     120 |  6.15885E+01 |  1.47792E+02\n",
            "   13 |     130 |  6.15885E+01 |  1.49986E+02\n",
            "   14 |     140 |  6.15885E+01 |  1.43938E+02\n",
            "   15 |     150 |  6.15885E+01 |  1.52542E+02\n",
            "   16 |     160 |  6.15885E+01 |  1.51558E+02\n",
            "   17 |     170 |  6.15885E+01 |  1.38245E+02\n",
            "   18 |     180 |  4.58168E+01 |  1.34301E+02\n",
            "   19 |     190 |  4.58168E+01 |  9.98971E+01\n",
            "   20 |     200 |  4.58168E+01 |  1.08805E+02\n",
            "   21 |     210 |  4.58168E+01 |  1.00196E+02\n",
            "   22 |     220 |  4.58168E+01 |  1.00134E+02\n",
            "   23 |     230 |  4.58168E+01 |  9.31129E+01\n",
            "   24 |     240 |  4.02511E+01 |  7.89560E+01\n",
            "   25 |     250 |  4.02511E+01 |  8.01719E+01\n",
            "   26 |     260 |  4.02511E+01 |  8.33988E+01\n",
            "   27 |     270 |  4.02511E+01 |  7.91262E+01\n",
            "   28 |     280 |  4.02511E+01 |  8.70828E+01\n",
            "   29 |     290 |  4.02511E+01 |  8.38662E+01\n",
            "   30 |     300 |  4.02511E+01 |  7.39285E+01\n",
            "   31 |     310 |  4.94656E+01 |  9.59279E+01\n",
            "   32 |     320 |  4.68454E+01 |  8.95113E+01\n",
            "   33 |     330 |  4.68279E+01 |  9.16398E+01\n",
            "   34 |     340 |  4.68279E+01 |  1.05917E+02\n",
            "   35 |     350 |  4.42753E+01 |  1.05649E+02\n",
            "   36 |     360 |  4.42753E+01 |  1.05468E+02\n",
            "   37 |     370 |  4.42753E+01 |  1.00076E+02\n",
            "   38 |     380 |  4.42753E+01 |  9.63388E+01\n",
            "   39 |     390 |  4.42753E+01 |  5.92467E+01\n",
            "   40 |     400 |  4.42753E+01 |  6.38492E+01\n",
            "   41 |     410 |  4.42753E+01 |  6.43826E+01\n",
            "   42 |     420 |  4.42753E+01 |  6.22790E+01\n",
            "   43 |     430 |  4.01357E+01 |  6.24587E+01\n",
            "   44 |     440 |  4.01357E+01 |  6.23910E+01\n",
            "   45 |     450 |  4.01357E+01 |  5.61811E+01\n",
            "   46 |     460 |  4.01357E+01 |  5.01894E+01\n",
            "   47 |     470 |  4.01357E+01 |  5.01519E+01\n",
            "   48 |     480 |  4.01357E+01 |  6.79384E+01\n",
            "   49 |     490 |  4.01357E+01 |  4.87341E+01\n",
            "   50 |     500 |  4.01357E+01 |  4.71753E+01\n",
            "   51 |     510 |  4.01357E+01 |  4.82122E+01\n",
            "   52 |     520 |  4.01357E+01 |  4.85407E+01\n",
            "   53 |     530 |  3.89100E+01 |  6.84731E+01\n",
            "   54 |     540 |  3.89100E+01 |  8.23904E+01\n",
            "   55 |     550 |  3.89100E+01 |  5.35580E+01\n",
            "   56 |     560 |  3.89100E+01 |  5.28315E+01\n",
            "   57 |     570 |  3.89100E+01 |  5.25911E+01\n",
            "   58 |     580 |  3.89100E+01 |  5.13038E+01\n",
            "   59 |     590 |  3.89100E+01 |  5.05720E+01\n",
            "   60 |     600 |  3.89100E+01 |  4.83707E+01\n",
            "   61 |     610 |  3.54883E+01 |  4.62152E+01\n",
            "   62 |     620 |  3.54883E+01 |  4.66148E+01\n",
            "   63 |     630 |  3.12809E+01 |  4.45516E+01\n",
            "   64 |     640 |  3.12809E+01 |  4.33559E+01\n",
            "   65 |     650 |  3.12809E+01 |  4.32347E+01\n",
            "   66 |     660 |  3.12809E+01 |  4.19388E+01\n",
            "   67 |     670 |  3.12809E+01 |  4.22272E+01\n",
            "   68 |     680 |  3.06320E+01 |  4.09905E+01\n",
            "   69 |     690 |  3.06320E+01 |  5.40882E+01\n",
            "   70 |     700 |  3.06320E+01 |  5.38964E+01\n",
            "   71 |     710 |  3.06320E+01 |  4.80410E+01\n",
            "   72 |     720 |  3.06320E+01 |  5.16283E+01\n",
            "   73 |     730 |  3.06320E+01 |  4.75687E+01\n",
            "   74 |     740 |  2.88121E+01 |  4.63670E+01\n",
            "   75 |     750 |  2.88121E+01 |  5.32811E+01\n",
            "   76 |     760 |  2.88121E+01 |  5.88299E+01\n",
            "   77 |     770 |  2.88121E+01 |  5.95953E+01\n",
            "   78 |     780 |  2.88121E+01 |  4.43673E+01\n",
            "   79 |     790 |  2.88121E+01 |  7.92236E+01\n",
            "   80 |     800 |  2.88121E+01 |  7.84743E+01\n",
            "   81 |     810 |  2.88121E+01 |  4.26515E+01\n",
            "   82 |     820 |  2.88121E+01 |  4.26044E+01\n",
            "   83 |     830 |  2.87707E+01 |  4.29440E+01\n",
            "   84 |     840 |  2.87707E+01 |  4.20314E+01\n",
            "   85 |     850 |  2.87707E+01 |  4.22028E+01\n",
            "   86 |     860 |  2.87707E+01 |  4.14105E+01\n",
            "   87 |     870 |  2.84722E+01 |  4.13680E+01\n",
            "   88 |     880 |  2.84722E+01 |  4.11926E+01\n",
            "   89 |     890 |  2.84722E+01 |  4.15423E+01\n",
            "   90 |     900 |  2.84722E+01 |  6.38743E+01\n",
            "   91 |     910 |  2.84722E+01 |  6.35472E+01\n",
            "   92 |     920 |  2.84722E+01 |  8.38428E+01\n",
            "   93 |     930 |  2.84722E+01 |  8.06785E+01\n",
            "   94 |     940 |  2.84722E+01 |  6.23336E+01\n",
            "   95 |     950 |  2.84722E+01 |  1.00804E+02\n",
            "   96 |     960 |  3.57590E+01 |  1.20422E+02\n",
            "   97 |     970 |  4.27507E+01 |  1.17933E+02\n",
            "   98 |     980 |  4.27507E+01 |  1.02407E+02\n",
            "   99 |     990 |  4.21777E+01 |  5.72970E+01\n",
            "  100 |    1000 |  4.21777E+01 |  5.47004E+01\n",
            "  101 |    1010 |  4.21777E+01 |  5.39963E+01\n",
            "  102 |    1020 |  4.21777E+01 |  5.25619E+01\n",
            "  103 |    1030 |  4.21777E+01 |  8.33030E+01\n",
            "  104 |    1040 |  4.04141E+01 |  8.30931E+01\n",
            "  105 |    1050 |  4.04141E+01 |  1.20892E+02\n",
            "  106 |    1060 |  4.04141E+01 |  1.34664E+02\n",
            "  107 |    1070 |  4.04141E+01 |  1.35473E+02\n",
            "  108 |    1080 |  4.04141E+01 |  1.44847E+02\n",
            "  109 |    1090 |  4.04141E+01 |  1.66929E+02\n",
            "  110 |    1100 |  4.04141E+01 |  1.70290E+02\n",
            "  111 |    1110 |  4.04141E+01 |  1.66480E+02\n",
            "  112 |    1120 |  4.04141E+01 |  1.65502E+02\n",
            "  113 |    1130 |  4.04141E+01 |  1.75385E+02\n",
            "  114 |    1140 |  3.64128E+01 |  1.13063E+02\n",
            "  115 |    1150 |  3.64128E+01 |  1.34795E+02\n",
            "  116 |    1160 |  3.63734E+01 |  1.16993E+02\n",
            "  117 |    1170 |  3.15503E+01 |  1.24117E+02\n",
            "  118 |    1180 |  3.15503E+01 |  1.32863E+02\n",
            "  119 |    1190 |  4.15992E+01 |  1.48240E+02\n",
            "  120 |    1200 |  4.15992E+01 |  1.52079E+02\n",
            "  121 |    1210 |  4.15992E+01 |  1.53643E+02\n",
            "  122 |    1220 |  3.66706E+01 |  1.27933E+02\n",
            "  123 |    1230 |  3.66706E+01 |  1.42796E+02\n",
            "  124 |    1240 |  4.15618E+01 |  1.52997E+02\n",
            "  125 |    1250 |  3.22999E+01 |  1.42359E+02\n",
            "  126 |    1260 |  3.22999E+01 |  1.42137E+02\n",
            "  127 |    1270 |  3.22999E+01 |  1.41061E+02\n",
            "  128 |    1280 |  3.22999E+01 |  1.64363E+02\n",
            "  129 |    1290 |  3.22999E+01 |  1.63629E+02\n",
            "  130 |    1300 |  3.22999E+01 |  1.55523E+02\n",
            "  131 |    1310 |  4.04158E+01 |  1.79577E+02\n",
            "  132 |    1320 |  3.39032E+01 |  1.78756E+02\n",
            "  133 |    1330 |  3.10256E+01 |  1.64635E+02\n",
            "  134 |    1340 |  3.10256E+01 |  1.53416E+02\n",
            "  135 |    1350 |  3.10256E+01 |  1.40811E+02\n",
            "  136 |    1360 |  3.01597E+01 |  1.03023E+02\n",
            "  137 |    1370 |  2.94784E+01 |  6.16023E+01\n",
            "  138 |    1380 |  2.94470E+01 |  5.73587E+01\n",
            "  139 |    1390 |  2.94491E+01 |  5.79758E+01\n",
            "  140 |    1400 |  2.68103E+01 |  4.44811E+01\n",
            "  141 |    1410 |  2.60598E+01 |  4.26136E+01\n",
            "  142 |    1420 |  2.60604E+01 |  4.78676E+01\n",
            "  143 |    1430 |  2.60604E+01 |  4.81361E+01\n",
            "  144 |    1440 |  2.60604E+01 |  4.85450E+01\n",
            "  145 |    1450 |  2.68103E+01 |  6.27936E+01\n",
            "  146 |    1460 |  2.68103E+01 |  8.16231E+01\n",
            "  147 |    1470 |  2.68103E+01 |  9.07207E+01\n",
            "  148 |    1480 |  2.68103E+01 |  9.05183E+01\n",
            "  149 |    1490 |  2.68103E+01 |  9.05183E+01\n",
            "  150 |    1500 |  2.68103E+01 |  9.32528E+01\n",
            "  151 |    1510 |  2.68103E+01 |  9.99568E+01\n",
            "  152 |    1520 |  2.68103E+01 |  9.68240E+01\n",
            "  153 |    1530 |  2.90159E+01 |  9.72907E+01\n",
            "  154 |    1540 |  2.90159E+01 |  1.21193E+02\n",
            "  155 |    1550 |  2.90159E+01 |  1.12004E+02\n",
            "  156 |    1560 |  2.90159E+01 |  1.22603E+02\n",
            "  157 |    1570 |  2.90159E+01 |  1.45528E+02\n",
            "  158 |    1580 |  2.90159E+01 |  1.40691E+02\n",
            "  159 |    1590 |  2.90159E+01 |  1.58759E+02\n",
            "  160 |    1600 |  2.90159E+01 |  1.29946E+02\n",
            "  161 |    1610 |  2.90159E+01 |  1.19326E+02\n",
            "  162 |    1620 |  2.90159E+01 |  1.18560E+02\n",
            "  163 |    1630 |  2.90159E+01 |  1.14172E+02\n",
            "  164 |    1640 |  2.90159E+01 |  8.56439E+01\n",
            "  165 |    1650 |  2.90159E+01 |  4.85043E+01\n",
            "  166 |    1660 |  2.28313E+01 |  4.65052E+01\n",
            "  167 |    1670 |  2.28313E+01 |  6.98660E+01\n",
            "  168 |    1680 |  2.28313E+01 |  6.67541E+01\n",
            "  169 |    1690 |  2.28313E+01 |  4.92909E+01\n",
            "  170 |    1700 |  2.28313E+01 |  4.92909E+01\n",
            "  171 |    1710 |  2.28313E+01 |  5.24221E+01\n",
            "  172 |    1720 |  2.28313E+01 |  5.19067E+01\n",
            "  173 |    1730 |  2.28313E+01 |  5.19051E+01\n",
            "  174 |    1740 |  2.28313E+01 |  5.87584E+01\n",
            "  175 |    1750 |  2.28313E+01 |  6.43076E+01\n",
            "  176 |    1760 |  2.28313E+01 |  6.40010E+01\n",
            "  177 |    1770 |  2.28313E+01 |  5.79005E+01\n",
            "  178 |    1780 |  2.28313E+01 |  5.68496E+01\n",
            "  179 |    1790 |  2.28313E+01 |  5.35615E+01\n",
            "  180 |    1800 |  1.48451E+01 |  4.18494E+01\n",
            "  181 |    1810 |  1.48021E+01 |  4.63584E+01\n",
            "  182 |    1820 |  1.48451E+01 |  5.29966E+01\n",
            "  183 |    1830 |  1.48451E+01 |  5.29966E+01\n",
            "  184 |    1840 |  1.48451E+01 |  5.29507E+01\n",
            "  185 |    1850 |  1.48451E+01 |  5.48961E+01\n",
            "  186 |    1860 |  1.48451E+01 |  4.94806E+01\n",
            "  187 |    1870 |  1.48451E+01 |  4.79245E+01\n",
            "  188 |    1880 |  1.48451E+01 |  4.66756E+01\n",
            "  189 |    1890 |  1.48451E+01 |  4.65440E+01\n",
            "  190 |    1900 |  1.48451E+01 |  4.42842E+01\n",
            "  191 |    1910 |  1.48451E+01 |  4.36714E+01\n",
            "  192 |    1920 |  1.48451E+01 |  4.28244E+01\n",
            "  193 |    1930 |  1.48451E+01 |  4.25392E+01\n",
            "  194 |    1940 |  1.48451E+01 |  4.25392E+01\n",
            "  195 |    1950 |  1.48451E+01 |  4.57842E+01\n",
            "  196 |    1960 |  1.48451E+01 |  4.25997E+01\n",
            "  197 |    1970 |  1.48451E+01 |  4.12930E+01\n",
            "  198 |    1980 |  1.48451E+01 |  4.12925E+01\n",
            "  199 |    1990 |  1.48451E+01 |  3.90638E+01\n",
            "  200 |    2000 |  1.48451E+01 |  4.08894E+01\n"
          ]
        }
      ]
    },
    {
      "cell_type": "code",
      "source": [
        "#plota o resultado dos valores de espaços objetivos (resultado.F)\n",
        "approx_ideal = resultado.F.min(axis=0)\n",
        "approx_nadir = resultado.F.max(axis=0)\n",
        "solucao = []\n",
        "for i in range(len(OBJETIVOS)):\n",
        "  try:\n",
        "    pnt = int(str(approx_ideal[i])[0:1])\n",
        "  except:\n",
        "    pnt = 1\n",
        "  if (len(OBJETIVOS)>2):\n",
        "    if (i>0):\n",
        "      pnt = pnt + POPULACAO * (i*len(OBJETIVOS))\n",
        "  solucao.append(pnt)\n",
        "rotulo = []\n",
        "cores = [\"red\",\"blue\",\"black\",\"green\",\"pink\",\"brown\"]\n",
        "DIRECAO = get_reference_directions(\"uniform\", len(OBJETIVOS), n_partitions=POPULACAO)\n",
        "F = get_problem(FCUSTO).pareto_front(DIRECAO)\n",
        "SC = StarCoordinate(title=\"Otimização Multiobjetivo\", \n",
        "  legend=(True, {'loc': \"upper left\", 'bbox_to_anchor': (-0.1, 1.08, 0, 0)}),\n",
        "  labels=OBJETIVOS,\n",
        "  axis_style={\"color\": \"blue\", 'alpha': 0.7},\n",
        "  arrow_style={\"head_length\": 0.015, \"head_width\": 0.03})\n",
        "SC.add(F, color=\"grey\", s=20)\n",
        "j = len(OBJETIVOS)-1\n",
        "for i in range(len(OBJETIVOS)):\n",
        "  SC.add(F[solucao[i]], color=cores[i], s=60, label=OBJETIVOS[j-i])\n",
        "SC.show()"
      ],
      "metadata": {
        "colab": {
          "base_uri": "https://localhost:8080/",
          "height": 395
        },
        "id": "tAvERsmYvprm",
        "outputId": "b188cc5a-0aac-416c-f57e-53db4507e355"
      },
      "execution_count": null,
      "outputs": [
        {
          "output_type": "execute_result",
          "data": {
            "text/plain": [
              "<pymoo.visualization.star_coordinate.StarCoordinate at 0x7fe2de245090>"
            ]
          },
          "metadata": {},
          "execution_count": 14
        },
        {
          "output_type": "display_data",
          "data": {
            "text/plain": [
              "<Figure size 576x432 with 1 Axes>"
            ],
            "image/png": "[encoded data removed]"
          },
          "metadata": {}
        }
      ]
    },
    {
      "cell_type": "code",
      "source": [
        "#exibe curva de convergência dos indivíduos\n",
        "retorno = [np.min(e.pop.get(\"F\")) for e in resultado.history] #cria conjunto de dados\n",
        "plt.title(\"Curva de Convergência do NSGA2\")\n",
        "plt.xlabel(\"Iterações\")\n",
        "plt.ylabel(\"Melhores Posições (F)\")\n",
        "plt.plot(np.arange(len(retorno)), retorno) #plota x e y\n",
        "plt.show()"
      ],
      "metadata": {
        "colab": {
          "base_uri": "https://localhost:8080/",
          "height": 295
        },
        "id": "ALTs01EBtJHq",
        "outputId": "510472d5-7f37-4a2b-f663-199f4bed23e6"
      },
      "execution_count": null,
      "outputs": [
        {
          "output_type": "display_data",
          "data": {
            "text/plain": [
              "<Figure size 432x288 with 1 Axes>"
            ],
            "image/png": "[encoded data removed]"
          },
          "metadata": {
            "needs_background": "light"
          }
        }
      ]
    },
    {
      "cell_type": "code",
      "source": [
        "#exibe os resultados\n",
        "print(\"n_gen=número de iterações (gerações) | n_eval=número de avaliações | igd=desempenho distância geracional invertida | gd=desempenho da distância geracional | hv=hypervolume\")\n",
        "#resultados F\n",
        "for i in range(POPULACAO):\n",
        "  print(\"i:\",i,\"espaços objetivos:\",resultado.F[i])\n",
        "#resultados pop\n",
        "popfim = resultado.pop\n",
        "popfimF = popfim.get(\"F\")\n",
        "popfimX = popfim.get(\"X\")\n",
        "for i in range(POPULACAO):\n",
        "  print(\"i:\",i,\"população final F=espeço objetivo:\",popfimF[i])\n",
        "for i in range(POPULACAO):\n",
        "  print(\"i:\",i,\"população final X=espeço de busca:\",popfimX[i])\n",
        "#resultados X\n",
        "for i in range(POPULACAO):\n",
        "  print(\"i:\",i,\"espaço de design:\",resultado.X[i])\n",
        "#resultados G\n",
        "for i in range(POPULACAO):\n",
        "  print(\"i:\",i,\"valores de restrição:\",resultado.G[i])\n",
        "#resultados CV\n",
        "for i in range(POPULACAO):\n",
        "  print(\"i:\",i,\"violação de restrição agregada:\",resultado.CV[i])\n",
        "#resultados opt\n",
        "sol = resultado.opt\n",
        "solF = sol.get(\"F\")\n",
        "solX = sol.get(\"X\")\n",
        "for i in range(POPULACAO):\n",
        "  print(\"i:\",i,\"soluções:\",solF[i])\n",
        "#resultados history\n",
        "his = resultado.history\n",
        "for i in range(ITERACOES):\n",
        "  ele = his[i]\n",
        "  print(\"i:\",i,\"elemento:\",ele)"
      ],
      "metadata": {
        "id": "x31Y3ZlbqU1q"
      },
      "execution_count": null,
      "outputs": []
    }
  ]
}