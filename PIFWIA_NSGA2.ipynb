{
  "nbformat": 4,
  "nbformat_minor": 0,
  "metadata": {
    "colab": {
      "name": "PIFWIA_NSGA2.ipynb",
      "provenance": [],
      "collapsed_sections": [],
      "include_colab_link": true
    },
    "kernelspec": {
      "name": "python3",
      "display_name": "Python 3"
    }
  },
  "cells": [
    {
      "cell_type": "markdown",
      "metadata": {
        "id": "view-in-github",
        "colab_type": "text"
      },
      "source": [
        "<a href=\"https://colab.research.google.com/github/alvarofpinheiro/pifwia_nsga/blob/main/PIFWIA_NSGA2.ipynb\" target=\"_parent\"><img src=\"https://colab.research.google.com/assets/colab-badge.svg\" alt=\"Open In Colab\"/></a>"
      ]
    },
    {
      "cell_type": "markdown",
      "source": [
        "NSGA2 - Non-dominated Sorting Genetic Algorithm ou Algoritmo Genético de Classificação Não Dominado é uma metaheurística para otimização multiobjetivo que pode ser denominada de \"programação multiobjetivo\" ou \"otimização vetorial\" ou \"otimização multicritério\" ou \"otimização multiatributo\" ou \"otimização de Pareto\", sendo uma área de tomada de decisão com múltiplos objetivos a serem otimizados simultaneamente de dois ou mais objetivos conflitantes.\n",
        "\n",
        "Deb, K.; Pratap, A.; Agarwal, S.; Meyarivan, T. A fast and elitist multiobjective genetic algorithm: NSGA-II. IEEE Transactions on Evolutionary Computation (Volume: 6, Issue: 2). https://doi.org/10.1109/4235.996017, 2002.\n",
        "\n",
        "pymoo: Multi-objective Optimization in Python https://pymoo.org/"
      ],
      "metadata": {
        "id": "Ji1oTtz8mE9L"
      }
    },
    {
      "cell_type": "code",
      "source": [
        "#instala biblioteca Orange Canvas e pymoo (otimização multiobjetivo)\n",
        "!pip install Orange3\n",
        "!pip install pymoo"
      ],
      "metadata": {
        "id": "AZL3imHRqNv4"
      },
      "execution_count": null,
      "outputs": []
    },
    {
      "cell_type": "code",
      "metadata": {
        "id": "kSF-_chACklb"
      },
      "source": [
        "#importa bibliotecas\n",
        "import Orange\n",
        "import random\n",
        "import math\n",
        "import numpy as np\n",
        "from tqdm import tqdm\n",
        "import matplotlib.pyplot as plt\n",
        "from numpy.random import choice\n",
        "from pymoo.algorithms.moo.nsga2 import NSGA2\n",
        "from pymoo.factory import get_problem, get_reference_directions, get_visualization\n",
        "from pymoo.visualization.star_coordinate import StarCoordinate\n",
        "from pymoo.util.plotting import plot\n",
        "from pymoo.optimize import minimize\n",
        "from pymoo.visualization.scatter import Scatter\n",
        "from tqdm import tqdm"
      ],
      "execution_count": null,
      "outputs": []
    },
    {
      "cell_type": "code",
      "source": [
        "#define os hiperparâmetros\n",
        "OBJETIVOS = [\"Eficiência\",\"Eficácia\"] #quantidade de objetivos distintos a serem resolvidos\n",
        "DIMENSOES = 3 #determina a quantidade de dimensões do problema\n",
        "ITERACOES = 200 #quantiddade máxima de ciclos (episódios) especificando quantas explorações podem ser realizadas\n",
        "POPULACAO = 10 #tamanho da população correspondente ao indivíduo\n",
        "E1 = -100 #extremo esquerdo eixo x\n",
        "E2 = 100 #extremo direito eixo x\n",
        "E3 = -100 #extremo inferior eixo y\n",
        "E4 = 100 #extremo superior eixo y\n",
        "LIMITES = [E1, E4] #(bound) determina os valores mínimos e máximos do espaço de busca\n",
        "SEMENTE=1 #valor de inicialização\n",
        "INDIVIDUOS = [] #(swarm) array da criação dos indivíduos da população"
      ],
      "metadata": {
        "id": "eq1IiXrNqYjP"
      },
      "execution_count": null,
      "outputs": []
    },
    {
      "cell_type": "code",
      "source": [
        "#importa dados\n",
        "from google.colab import files  \n",
        "files.upload()"
      ],
      "metadata": {
        "id": "ZqKsxZlZq5_3"
      },
      "execution_count": null,
      "outputs": []
    },
    {
      "cell_type": "code",
      "source": [
        "#instancia objeto de dados com base no caminho gerado na importação do arquivo\n",
        "dados = Orange.data.Table(\"/content/dados.csv\")\n",
        "#explora os metadados e dados da arquivo importado\n",
        "qtde_campos = len(dados.domain.attributes)\n",
        "qtde_cont = sum(1 for a in dados.domain.attributes if a.is_continuous)\n",
        "qtde_disc = sum(1 for a in dados.domain.attributes if a.is_discrete)\n",
        "print(\"%d metadados: %d continuos, %d discretos\" % (qtde_campos, qtde_cont, qtde_disc))\n",
        "print(\"Nome dos metadados:\", \", \".join(dados.domain.attributes[i].name for i in range(qtde_campos)),)\n",
        "dados.domain.attributes #explora os domínios dos atributos (campos da base de dados)\n",
        "print(\"Registros:\", len(dados)) #explora os dados (quantidade de registros da base de dados)\n",
        "i = 0 #exibe os primeiros registros para análise dos dados importados\n",
        "for d in dados[:20]:\n",
        "  i += 1\n",
        "  #print(i, d)\n",
        "#cria arrays das dimensões do problema a ser otimizado\n",
        "procurador = []\n",
        "processo = []\n",
        "complexidade = [] #1-muito baixa complexidade;2-baixa complexidade;3-média complexidade;4-alta complexidade;e,5-muito alta complexidade\n",
        "pagina = []\n",
        "prazo = []\n",
        "revisao = []\n",
        "entrega = []\n",
        "valor = []\n",
        "i = 0\n",
        "for d in dados[:POPULACAO]:\n",
        "  procurador.append(d[0])\n",
        "  processo.append(d[1])\n",
        "  complexidade.append(d[2])\n",
        "  pagina.append(d[3])\n",
        "  prazo.append(d[4])\n",
        "  revisao.append(d[5])\n",
        "  entrega.append(d[6])\n",
        "  valor.append(d[7])\n",
        "  #print(\"id:\",i,\"procurador:\",procurador[i],\"processo:\",processo[i],\"complexidade:\",complexidade[i],\"página:\",pagina[i],\"prazo:\",prazo[i],\"revisões:\",revisao[i],\"entrega:\",entrega[i],\"valor:\",valor[i])\n",
        "  i += 1\n",
        "#definição dos pesos da função objetivo\n",
        "PESOS = [0.2,0.2,0.1,0.1,0.1,0.3] #f(x) = (0.2α + 0.2β + 0.1γ + 0.1δ + 0.1ε + 0.3θ) / 0.10\n",
        "pesos = []\n",
        "for i in range(DIMENSOES):\n",
        "  pesos.append(PESOS[i])\n",
        "print(pesos)"
      ],
      "metadata": {
        "id": "u1UUjLTBq8V-",
        "colab": {
          "base_uri": "https://localhost:8080/"
        },
        "outputId": "658a40a9-a00f-4388-8d20-7dbb50c3c30c"
      },
      "execution_count": null,
      "outputs": [
        {
          "output_type": "stream",
          "name": "stdout",
          "text": [
            "8 metadados: 7 continuos, 1 discretos\n",
            "Nome dos metadados: PROCURADOR, PROCESSO, COMPLEXIDADE, PAGINA, PRAZO, REVISOES, ENTREGA, VALOR(milR$)\n",
            "Registros: 1013\n",
            "[0.2, 0.2, 0.1]\n"
          ]
        }
      ]
    },
    {
      "cell_type": "code",
      "source": [
        "#inicializa população (indivíduos)\n",
        "populacao = []\n",
        "for i in range(POPULACAO):\n",
        "  cpx = complexidade[i]\n",
        "  pag = pagina[i]\n",
        "  prz = prazo[i]\n",
        "  rev = revisao[i]\n",
        "  ent = entrega[i]\n",
        "  val = valor[i]\n",
        "  posicao = 0\n",
        "  individuo = []\n",
        "  for j in range(DIMENSOES):\n",
        "    if (j==0):\n",
        "      posicao = cpx\n",
        "    elif (j==1):\n",
        "      posicao = pag\n",
        "    elif (j==2):\n",
        "      posicao = prz\n",
        "    elif (j==3):\n",
        "      posicao = rev\n",
        "    elif (j==4):\n",
        "      posicao = ent\n",
        "    elif (j==5):\n",
        "      posicao = val\n",
        "    else:\n",
        "      posicao = random.random()*(LIMITES[1]-LIMITES[0]) - LIMITES[1]\n",
        "    individuo.append(posicao)\n",
        "  populacao.append(individuo)\n",
        "  INDIVIDUOS = np.array(populacao)\n",
        "  aux = \"\"\n",
        "  for p in range(len(pesos)):\n",
        "    aux += str(pesos[p]) + \", \"\n",
        "  print(\"indivíduo:\",i,\"indivíduo:\",populacao[i],\"pesos:\",aux)"
      ],
      "metadata": {
        "colab": {
          "base_uri": "https://localhost:8080/"
        },
        "id": "m-RobAUXye-h",
        "outputId": "5e751e65-53da-4456-f976-018d90c63ec6"
      },
      "execution_count": null,
      "outputs": [
        {
          "output_type": "stream",
          "name": "stdout",
          "text": [
            "indivíduo: 0 indivíduo: [Value('COMPLEXIDADE', 2), Value('PAGINA', 37), Value('PRAZO', 10)] pesos: 0.2, 0.2, 0.1, \n",
            "indivíduo: 1 indivíduo: [Value('COMPLEXIDADE', 2), Value('PAGINA', 2), Value('PRAZO', 5)] pesos: 0.2, 0.2, 0.1, \n",
            "indivíduo: 2 indivíduo: [Value('COMPLEXIDADE', 4), Value('PAGINA', 82), Value('PRAZO', 15)] pesos: 0.2, 0.2, 0.1, \n",
            "indivíduo: 3 indivíduo: [Value('COMPLEXIDADE', 2), Value('PAGINA', 17), Value('PRAZO', 10)] pesos: 0.2, 0.2, 0.1, \n",
            "indivíduo: 4 indivíduo: [Value('COMPLEXIDADE', 3), Value('PAGINA', 11), Value('PRAZO', 10)] pesos: 0.2, 0.2, 0.1, \n",
            "indivíduo: 5 indivíduo: [Value('COMPLEXIDADE', 2), Value('PAGINA', 48), Value('PRAZO', 10)] pesos: 0.2, 0.2, 0.1, \n",
            "indivíduo: 6 indivíduo: [Value('COMPLEXIDADE', 1), Value('PAGINA', 18), Value('PRAZO', 10)] pesos: 0.2, 0.2, 0.1, \n",
            "indivíduo: 7 indivíduo: [Value('COMPLEXIDADE', 1), Value('PAGINA', 3), Value('PRAZO', 5)] pesos: 0.2, 0.2, 0.1, \n",
            "indivíduo: 8 indivíduo: [Value('COMPLEXIDADE', 2), Value('PAGINA', 4), Value('PRAZO', 5)] pesos: 0.2, 0.2, 0.1, \n",
            "indivíduo: 9 indivíduo: [Value('COMPLEXIDADE', 1), Value('PAGINA', 7), Value('PRAZO', 5)] pesos: 0.2, 0.2, 0.1, \n"
          ]
        }
      ]
    },
    {
      "cell_type": "code",
      "source": [
        "#define a função de calculo\n",
        "def calcula(exibe):\n",
        "  problema = get_problem(FCUSTO)\n",
        "  pareto = problema.pareto_front()\n",
        "  algoritmo = NSGA2(\n",
        "    ref_points=INDIVIDUOS,\n",
        "    pop_size=POPULACAO,\n",
        "    eliminate_duplicates=True,\n",
        "    epsilon=0.01,\n",
        "    normalization='front',\n",
        "    extreme_points_as_reference_points=False,\n",
        "    weights=np.array(pesos))\n",
        "  resultado = minimize(problema, #objeto Problema que contém o problema a ser resolvido\n",
        "    algoritmo, #objetivo de algoritmo que representa o algoritmo a ser usado\n",
        "    save_history=True, #um valor booleano que representa se um instantâneo do algoritmo deve ser armazenado em cada iteração\n",
        "    termination=('n_gen',ITERACOES), #um objeto que define quando o algoritmo termina\n",
        "    seed=SEMENTE, #semente com valor inteiro positivo garante resultados reproduzíveis \n",
        "    pf=pareto, #define o ploblema de pareto\n",
        "    disp=True, #você pode substituir qual saída deve ser impressa em cada iteração\n",
        "    verbose=exibe) #valor booleano que define se a saída deve ser impressa durante a execução ou não\n",
        "  return (pareto,resultado)"
      ],
      "metadata": {
        "id": "YZfH-Bl_Pdfv"
      },
      "execution_count": null,
      "outputs": []
    },
    {
      "cell_type": "code",
      "source": [
        "#calcula a otimização\n",
        "c1dtlz = ['c1dtlz1', 'c1dtlz3', 'c2dtlz2', 'c3dtlz1', 'c3dtlz4']\n",
        "convex = ['convex_dtlz2', 'convex_dtlz4']\n",
        "ctp = ['ctp1', 'ctp2', 'ctp3', 'ctp4', 'ctp5', 'ctp6', 'ctp7', 'ctp8']\n",
        "dascmop = ['dascmop1', 'dascmop2', 'dascmop3', 'dascmop4', 'dascmop5', 'dascmop6', 'dascmop7', 'dascmop8', 'dascmop9'] #conjunto de testes multiobjetivo restrito com restrições ajustáveis\n",
        "dc1dtlz = ['dc1dtlz1', 'dc1dtlz3', 'dc2dtlz1', 'dc2dtlz3', 'dc3dtlz1', 'dc3dtlz3'] #para problemas de convergência em hiperplano de Pareto-ótimo\n",
        "dtlz = ['dtlz1^-1', 'dtlz1', 'dtlz2', 'dtlz3', 'dtlz4', 'dtlz5', 'dtlz6', 'dtlz7']\n",
        "g = ['g01', 'g02', 'g03', 'g04', 'g05', 'g06', 'g07', 'g08', 'g09', 'g10']\n",
        "mw = ['mw1', 'mw2', 'mw3', 'mw4', 'mw5', 'mw6', 'mw7', 'mw8', 'mw9', 'mw10', 'mw11', 'mw12', 'mw13', 'mw14'] #conjunto multi-objetivo restrito construído para problemas com até 4 restrições de desigualdade\n",
        "wfg = ['wfg1', 'wfg2', 'wfg3', 'wfg4', 'wfg5', 'wfg6', 'wfg7', 'wfg8', 'wfg9']\n",
        "zdt = ['zdt1', 'zdt2', 'zdt3', 'zdt4', 'zdt5', 'zdt6'] #dois objetivos devem ser minimizados\n",
        "outros = ['rosenbrock', 'schwefel', 'sphere', 'srn', 'tnk', 'truss2d', 'welded_beam', 'zakharov','ackley', 'bnh', 'carside','modact','sdtlz1','cantilevered_beam', 'griewank', 'himmelblau', 'knp', 'kursawe', 'osy', 'pressure_vessel', 'rastrigin']\n",
        "FCUSTO=dtlz[1]\n",
        "pareto,resultado=calcula(False)"
      ],
      "metadata": {
        "id": "QziYqrUEsiq9"
      },
      "execution_count": null,
      "outputs": []
    },
    {
      "cell_type": "code",
      "source": [
        "#plota o resultado dos valores de espaços objetivos (resultado.F)\n",
        "approx_ideal = resultado.F.min(axis=0)\n",
        "approx_nadir = resultado.F.max(axis=0)\n",
        "solucao = []\n",
        "for i in range(len(OBJETIVOS)):\n",
        "  try:\n",
        "    pnt = int(str(approx_ideal[i])[0:1])\n",
        "  except:\n",
        "    pnt = 1\n",
        "  if (len(OBJETIVOS)>2):\n",
        "    if (i>0):\n",
        "      pnt = pnt + POPULACAO * (i*len(OBJETIVOS))\n",
        "  solucao.append(pnt)\n",
        "rotulo = []\n",
        "cores = [\"red\",\"blue\",\"black\",\"green\",\"pink\",\"brown\"]\n",
        "DIRECAO = get_reference_directions(\"uniform\", len(OBJETIVOS), n_partitions=POPULACAO)\n",
        "F = get_problem(FCUSTO).pareto_front(DIRECAO)\n",
        "SC = StarCoordinate(title=\"Otimização Multiobjetivo\", \n",
        "  legend=(True, {'loc': \"upper left\", 'bbox_to_anchor': (-0.1, 1.08, 0, 0)}),\n",
        "  labels=OBJETIVOS,\n",
        "  axis_style={\"color\": \"blue\", 'alpha': 0.7},\n",
        "  arrow_style={\"head_length\": 0.015, \"head_width\": 0.03})\n",
        "SC.add(F, color=\"grey\", s=20)\n",
        "j = len(OBJETIVOS)-1\n",
        "for i in range(len(OBJETIVOS)):\n",
        "  SC.add(F[solucao[i]], color=cores[i], s=60, label=OBJETIVOS[j-i])\n",
        "SC.show()"
      ],
      "metadata": {
        "colab": {
          "base_uri": "https://localhost:8080/",
          "height": 395
        },
        "id": "tAvERsmYvprm",
        "outputId": "69213fcb-2a86-4f4b-f390-ab81794133f5"
      },
      "execution_count": null,
      "outputs": [
        {
          "output_type": "execute_result",
          "data": {
            "text/plain": [
              "<pymoo.visualization.star_coordinate.StarCoordinate at 0x7f1d88813410>"
            ]
          },
          "metadata": {},
          "execution_count": 25
        },
        {
          "output_type": "display_data",
          "data": {
            "text/plain": [
              "<Figure size 576x432 with 1 Axes>"
            ],
            "image/png": "[encoded data removed]"
          },
          "metadata": {}
        }
      ]
    },
    {
      "cell_type": "code",
      "source": [
        "#exibe curva de convergência dos indivíduos\n",
        "print(\"\")\n",
        "retorno = [np.min(e.pop.get(\"F\")) for e in resultado.history] #cria conjunto de dados\n",
        "plt.figure(figsize=(6,4), dpi=80) #cria figura com tamanho de 8x6 pontos com 80 pontos por polegada\n",
        "plt.subplot(1, 1, 1) #cria nova subplotagem a partir de um grid de 1x1\n",
        "plt.title(\"Curva de Convergência do NSGA2\")\n",
        "plt.xlabel(\"Iterações\")\n",
        "plt.ylabel(\"Melhor Posições (F)\")\n",
        "plt.plot(np.arange(len(retorno)), retorno) #plota x e y\n",
        "plt.show()"
      ],
      "metadata": {
        "colab": {
          "base_uri": "https://localhost:8080/",
          "height": 341
        },
        "id": "ALTs01EBtJHq",
        "outputId": "79ed92dc-c691-4de6-8c8f-a70d9508bce8"
      },
      "execution_count": null,
      "outputs": [
        {
          "output_type": "stream",
          "name": "stdout",
          "text": [
            "\n"
          ]
        },
        {
          "output_type": "display_data",
          "data": {
            "text/plain": [
              "<Figure size 480x320 with 1 Axes>"
            ],
            "image/png": "[encoded data removed]"
          },
          "metadata": {
            "needs_background": "light"
          }
        }
      ]
    },
    {
      "cell_type": "code",
      "source": [
        "#exibe os resultados\n",
        "print(\"n_gen=número de iterações (gerações) | n_eval=número de avaliações | igd=desempenho distância geracional invertida | gd=desempenho da distância geracional | hv=hypervolume\")\n",
        "#resultados F\n",
        "for i in range(POPULACAO):\n",
        "  print(\"i:\",i,\"espaços objetivos:\",resultado.F[i])\n",
        "#resultados pop\n",
        "popfim = resultado.pop\n",
        "popfimF = popfim.get(\"F\")\n",
        "popfimX = popfim.get(\"X\")\n",
        "for i in range(POPULACAO):\n",
        "  print(\"i:\",i,\"população final F=espeço objetivo:\",popfimF[i])\n",
        "for i in range(POPULACAO):\n",
        "  print(\"i:\",i,\"população final X=espeço de busca:\",popfimX[i])\n",
        "#resultados X\n",
        "for i in range(POPULACAO):\n",
        "  print(\"i:\",i,\"espaço de design:\",resultado.X[i])\n",
        "#resultados G\n",
        "for i in range(POPULACAO):\n",
        "  print(\"i:\",i,\"valores de restrição:\",resultado.G[i])\n",
        "#resultados CV\n",
        "for i in range(POPULACAO):\n",
        "  print(\"i:\",i,\"violação de restrição agregada:\",resultado.CV[i])\n",
        "#resultados opt\n",
        "sol = resultado.opt\n",
        "solF = sol.get(\"F\")\n",
        "solX = sol.get(\"X\")\n",
        "for i in range(POPULACAO):\n",
        "  print(\"i:\",i,\"soluções:\",solF[i])\n",
        "#resultados history\n",
        "his = resultado.history\n",
        "for i in range(ITERACOES):\n",
        "  ele = his[i]\n",
        "  print(\"i:\",i,\"elemento:\",ele)"
      ],
      "metadata": {
        "id": "x31Y3ZlbqU1q"
      },
      "execution_count": null,
      "outputs": []
    }
  ]
}